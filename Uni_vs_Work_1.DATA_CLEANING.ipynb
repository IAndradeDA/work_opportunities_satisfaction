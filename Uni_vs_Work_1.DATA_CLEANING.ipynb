{
 "cells": [
  {
   "cell_type": "code",
   "execution_count": 47,
   "metadata": {},
   "outputs": [],
   "source": [
    "import pandas as pd\n",
    "import numpy as np\n"
   ]
  },
  {
   "cell_type": "markdown",
   "metadata": {},
   "source": [
    "#### Extracting the info from exccel"
   ]
  },
  {
   "cell_type": "code",
   "execution_count": 48,
   "metadata": {},
   "outputs": [
    {
     "data": {
      "text/html": [
       "<div>\n",
       "<style scoped>\n",
       "    .dataframe tbody tr th:only-of-type {\n",
       "        vertical-align: middle;\n",
       "    }\n",
       "\n",
       "    .dataframe tbody tr th {\n",
       "        vertical-align: top;\n",
       "    }\n",
       "\n",
       "    .dataframe thead th {\n",
       "        text-align: right;\n",
       "    }\n",
       "</style>\n",
       "<table border=\"1\" class=\"dataframe\">\n",
       "  <thead>\n",
       "    <tr style=\"text-align: right;\">\n",
       "      <th></th>\n",
       "      <th>Timestamp</th>\n",
       "      <th>1.  What is your gender?</th>\n",
       "      <th>2. How old are you?</th>\n",
       "      <th>3. What is the area of your studies at University?</th>\n",
       "      <th>4. Where did you take the course?</th>\n",
       "      <th>5. Please specify the country:</th>\n",
       "      <th>6.  Have you completed your studies?</th>\n",
       "      <th>7. In what year did you complete your degree?</th>\n",
       "      <th>8. Did you take one second course in University?</th>\n",
       "      <th>9. If yes, did you complete this second course?</th>\n",
       "      <th>...</th>\n",
       "      <th>14. Did you feel the need to look for work abroad?</th>\n",
       "      <th>15. Are you satisfied with the evolution of your career?</th>\n",
       "      <th>16. Select the options below that better fits your positive thoughts about your current or last work experience:</th>\n",
       "      <th>17. Select the options below that better fits your negative thoughts about your current or last work experience:</th>\n",
       "      <th>18. Do you feel that your University studies matches with what you aspirated?</th>\n",
       "      <th>19. Did you take another specialization course/MBA/Phd/Bootcamp?</th>\n",
       "      <th>20. If yes, what was the course/MBA/Phd/Bootcamp? And Why?</th>\n",
       "      <th>21. Do you feel that you need/had to change career to have more work opportunities?</th>\n",
       "      <th>Thank you for taking the time to complete this survey!</th>\n",
       "      <th>Thank you for taking the time to complete this survey! [Row 2dfsdg]</th>\n",
       "    </tr>\n",
       "  </thead>\n",
       "  <tbody>\n",
       "    <tr>\n",
       "      <th>0</th>\n",
       "      <td>2022-11-07 20:47:58.368</td>\n",
       "      <td>Female</td>\n",
       "      <td>34.0</td>\n",
       "      <td>Architecture,  civil engineering and related a...</td>\n",
       "      <td>Europe</td>\n",
       "      <td>portugal</td>\n",
       "      <td>Yes</td>\n",
       "      <td>2014.0</td>\n",
       "      <td>No</td>\n",
       "      <td>No</td>\n",
       "      <td>...</td>\n",
       "      <td>Yes.  And I went to work in another country.</td>\n",
       "      <td>Yes</td>\n",
       "      <td>s</td>\n",
       "      <td>sd</td>\n",
       "      <td>Yes</td>\n",
       "      <td>Yes. The specialization was/is in a different ...</td>\n",
       "      <td>Ironhack Data , because there is more prospect...</td>\n",
       "      <td>NaN</td>\n",
       "      <td>NaN</td>\n",
       "      <td>NaN</td>\n",
       "    </tr>\n",
       "  </tbody>\n",
       "</table>\n",
       "<p>1 rows × 24 columns</p>\n",
       "</div>"
      ],
      "text/plain": [
       "                Timestamp 1.  What is your gender?  2. How old are you?  \\\n",
       "0 2022-11-07 20:47:58.368                   Female                 34.0   \n",
       "\n",
       "  3. What is the area of your studies at University?  \\\n",
       "0  Architecture,  civil engineering and related a...   \n",
       "\n",
       "  4. Where did you take the course? 5. Please specify the country:  \\\n",
       "0                            Europe                       portugal   \n",
       "\n",
       "  6.  Have you completed your studies?  \\\n",
       "0                                  Yes   \n",
       "\n",
       "   7. In what year did you complete your degree?  \\\n",
       "0                                         2014.0   \n",
       "\n",
       "  8. Did you take one second course in University?  \\\n",
       "0                                               No   \n",
       "\n",
       "  9. If yes, did you complete this second course?  ...  \\\n",
       "0                                              No  ...   \n",
       "\n",
       "   14. Did you feel the need to look for work abroad?  \\\n",
       "0       Yes.  And I went to work in another country.    \n",
       "\n",
       "  15. Are you satisfied with the evolution of your career?   \\\n",
       "0                                                Yes          \n",
       "\n",
       "  16. Select the options below that better fits your positive thoughts about your current or last work experience:  \\\n",
       "0                                                  s                                                                 \n",
       "\n",
       "  17. Select the options below that better fits your negative thoughts about your current or last work experience:  \\\n",
       "0                                                 sd                                                                 \n",
       "\n",
       "  18. Do you feel that your University studies matches with what you aspirated?  \\\n",
       "0                                                Yes                              \n",
       "\n",
       "  19. Did you take another specialization course/MBA/Phd/Bootcamp?  \\\n",
       "0  Yes. The specialization was/is in a different ...                 \n",
       "\n",
       "  20. If yes, what was the course/MBA/Phd/Bootcamp? And Why?  \\\n",
       "0  Ironhack Data , because there is more prospect...           \n",
       "\n",
       "  21. Do you feel that you need/had to change career to have more work opportunities?   \\\n",
       "0                                                NaN                                     \n",
       "\n",
       "  Thank you for taking the time to complete this survey!  \\\n",
       "0                                                NaN       \n",
       "\n",
       "  Thank you for taking the time to complete this survey! [Row 2dfsdg]  \n",
       "0                                                NaN                   \n",
       "\n",
       "[1 rows x 24 columns]"
      ]
     },
     "execution_count": 48,
     "metadata": {},
     "output_type": "execute_result"
    }
   ],
   "source": [
    "survey = pd.read_excel(\"Survey.xlsx\")\n",
    "survey.head(1)"
   ]
  },
  {
   "cell_type": "code",
   "execution_count": 49,
   "metadata": {},
   "outputs": [],
   "source": [
    "survey = survey.iloc[:,:-2]"
   ]
  },
  {
   "cell_type": "code",
   "execution_count": 50,
   "metadata": {},
   "outputs": [
    {
     "data": {
      "text/plain": [
       "['Timestamp',\n",
       " '1.  What is your gender?',\n",
       " '2. How old are you?',\n",
       " '3. What is the area of your studies at University?',\n",
       " '4. Where did you take the course?',\n",
       " '5. Please specify the country:',\n",
       " '6.  Have you completed your studies?',\n",
       " '7. In what year did you complete your degree?',\n",
       " '8. Did you take one second course in University?',\n",
       " '9. If yes, did you complete this second course?',\n",
       " '10. When did you complete this second course ?',\n",
       " '11. Does the search for your first job (after graduation) was easy?',\n",
       " '12. The experience of your first job was what you expected?',\n",
       " '13. Why?',\n",
       " '14. Did you feel the need to look for work abroad?',\n",
       " '15. Are you satisfied with the evolution of your career? ',\n",
       " '16. Select the options below that better fits your positive thoughts about your current or last work experience:',\n",
       " '17. Select the options below that better fits your negative thoughts about your current or last work experience:',\n",
       " '18. Do you feel that your University studies matches with what you aspirated?',\n",
       " '19. Did you take another specialization course/MBA/Phd/Bootcamp?',\n",
       " '20. If yes, what was the course/MBA/Phd/Bootcamp? And Why?',\n",
       " '21. Do you feel that you need/had to change career to have more work opportunities? ']"
      ]
     },
     "execution_count": 50,
     "metadata": {},
     "output_type": "execute_result"
    }
   ],
   "source": [
    "col_names = list(survey.columns)\n",
    "col_names"
   ]
  },
  {
   "cell_type": "code",
   "execution_count": 51,
   "metadata": {},
   "outputs": [
    {
     "data": {
      "text/html": [
       "<div>\n",
       "<style scoped>\n",
       "    .dataframe tbody tr th:only-of-type {\n",
       "        vertical-align: middle;\n",
       "    }\n",
       "\n",
       "    .dataframe tbody tr th {\n",
       "        vertical-align: top;\n",
       "    }\n",
       "\n",
       "    .dataframe thead th {\n",
       "        text-align: right;\n",
       "    }\n",
       "</style>\n",
       "<table border=\"1\" class=\"dataframe\">\n",
       "  <thead>\n",
       "    <tr style=\"text-align: right;\">\n",
       "      <th></th>\n",
       "      <th>Timestamp</th>\n",
       "      <th>1</th>\n",
       "      <th>2</th>\n",
       "      <th>3</th>\n",
       "      <th>4</th>\n",
       "      <th>5</th>\n",
       "      <th>6</th>\n",
       "      <th>7</th>\n",
       "      <th>8</th>\n",
       "      <th>9</th>\n",
       "      <th>...</th>\n",
       "      <th>12</th>\n",
       "      <th>13</th>\n",
       "      <th>14</th>\n",
       "      <th>15</th>\n",
       "      <th>16</th>\n",
       "      <th>17</th>\n",
       "      <th>18</th>\n",
       "      <th>19</th>\n",
       "      <th>20</th>\n",
       "      <th>21</th>\n",
       "    </tr>\n",
       "  </thead>\n",
       "  <tbody>\n",
       "    <tr>\n",
       "      <th>0</th>\n",
       "      <td>2022-11-07 20:47:58.368</td>\n",
       "      <td>Female</td>\n",
       "      <td>34.0</td>\n",
       "      <td>Architecture,  civil engineering and related a...</td>\n",
       "      <td>Europe</td>\n",
       "      <td>portugal</td>\n",
       "      <td>Yes</td>\n",
       "      <td>2014.0</td>\n",
       "      <td>No</td>\n",
       "      <td>No</td>\n",
       "      <td>...</td>\n",
       "      <td>Yes</td>\n",
       "      <td>NaN</td>\n",
       "      <td>Yes.  And I went to work in another country.</td>\n",
       "      <td>Yes</td>\n",
       "      <td>s</td>\n",
       "      <td>sd</td>\n",
       "      <td>Yes</td>\n",
       "      <td>Yes. The specialization was/is in a different ...</td>\n",
       "      <td>Ironhack Data , because there is more prospect...</td>\n",
       "      <td>NaN</td>\n",
       "    </tr>\n",
       "  </tbody>\n",
       "</table>\n",
       "<p>1 rows × 22 columns</p>\n",
       "</div>"
      ],
      "text/plain": [
       "                Timestamp       1     2  \\\n",
       "0 2022-11-07 20:47:58.368  Female  34.0   \n",
       "\n",
       "                                                   3       4         5    6  \\\n",
       "0  Architecture,  civil engineering and related a...  Europe  portugal  Yes   \n",
       "\n",
       "        7   8   9  ...   12   13  \\\n",
       "0  2014.0  No  No  ...  Yes  NaN   \n",
       "\n",
       "                                             14   15 16  17   18  \\\n",
       "0  Yes.  And I went to work in another country.  Yes  s  sd  Yes   \n",
       "\n",
       "                                                  19  \\\n",
       "0  Yes. The specialization was/is in a different ...   \n",
       "\n",
       "                                                  20   21  \n",
       "0  Ironhack Data , because there is more prospect...  NaN  \n",
       "\n",
       "[1 rows x 22 columns]"
      ]
     },
     "execution_count": 51,
     "metadata": {},
     "output_type": "execute_result"
    }
   ],
   "source": [
    "survey.columns=['Timestamp',1,2,3,4,5,6,7,8,9,10,11,12,13,14,15,16,17,18,19,20,21]\n",
    "survey.head(1)"
   ]
  },
  {
   "cell_type": "markdown",
   "metadata": {},
   "source": [
    "#### Correcting misspelled/typing errors"
   ]
  },
  {
   "cell_type": "code",
   "execution_count": 52,
   "metadata": {},
   "outputs": [],
   "source": [
    "# [5] - For the Country name column\n",
    "survey[5] = survey[5].str.strip().str.title()"
   ]
  },
  {
   "cell_type": "code",
   "execution_count": 53,
   "metadata": {},
   "outputs": [],
   "source": [
    "survey[5] = survey[5].str.replace('Pt','Portugal')"
   ]
  },
  {
   "cell_type": "code",
   "execution_count": 54,
   "metadata": {},
   "outputs": [
    {
     "data": {
      "text/plain": [
       "Portugal           23\n",
       "United States       3\n",
       "Usa                 3\n",
       "Uk                  2\n",
       "Netherlands         2\n",
       "Brazil              2\n",
       "United Kingdom      2\n",
       "The Netherlands     2\n",
       "South Africa        2\n",
       "Colombia            2\n",
       "Italy               1\n",
       "Ireland             1\n",
       "Austria             1\n",
       "Egypt               1\n",
       "Denmark             1\n",
       "Australia           1\n",
       "Canada              1\n",
       "Vietnam             1\n",
       "China               1\n",
       "New Zealand         1\n",
       "France              1\n",
       "Spain               1\n",
       "Name: 5, dtype: int64"
      ]
     },
     "execution_count": 54,
     "metadata": {},
     "output_type": "execute_result"
    }
   ],
   "source": [
    "survey[5].value_counts()"
   ]
  },
  {
   "cell_type": "code",
   "execution_count": 75,
   "metadata": {},
   "outputs": [],
   "source": [
    "# [16]\n",
    "# function to search for the especific answers \n",
    "def find_answers16(row, answer):\n",
    "    if str(answer) in str(row[16]):\n",
    "        return 1\n",
    "    else:\n",
    "        return 0\n",
    "\n",
    "#function to search for different answers (open answers):\n",
    "def find_open_pos_answers16(row):\n",
    "    for ans16 in str(row[16]).split(','):\n",
    "        if ans16.strip() not in post_ans:\n",
    "                return ans16.strip()\n",
    "    else:\n",
    "        return 0\n",
    "\n",
    "#[17]\n",
    "# function to search for the especific answers \n",
    "def find_answers17(row, answer):\n",
    "    if str(answer) in str(row[17]):\n",
    "        return 1\n",
    "    else:\n",
    "        return 0\n",
    "\n",
    "#function to search for different answers (open answers):\n",
    "def find_open_neg_answers17(row):\n",
    "    for ans16 in str(row[17]).split(','):\n",
    "        if ans16.strip() not in neg_ans:\n",
    "                return ans16.strip()\n",
    "    else:\n",
    "        return 0\n"
   ]
  },
  {
   "cell_type": "code",
   "execution_count": 76,
   "metadata": {},
   "outputs": [
    {
     "data": {
      "text/html": [
       "<div>\n",
       "<style scoped>\n",
       "    .dataframe tbody tr th:only-of-type {\n",
       "        vertical-align: middle;\n",
       "    }\n",
       "\n",
       "    .dataframe tbody tr th {\n",
       "        vertical-align: top;\n",
       "    }\n",
       "\n",
       "    .dataframe thead th {\n",
       "        text-align: right;\n",
       "    }\n",
       "</style>\n",
       "<table border=\"1\" class=\"dataframe\">\n",
       "  <thead>\n",
       "    <tr style=\"text-align: right;\">\n",
       "      <th></th>\n",
       "      <th>Timestamp</th>\n",
       "      <th>1</th>\n",
       "      <th>2</th>\n",
       "      <th>3</th>\n",
       "      <th>4</th>\n",
       "      <th>5</th>\n",
       "      <th>6</th>\n",
       "      <th>7</th>\n",
       "      <th>8</th>\n",
       "      <th>9</th>\n",
       "      <th>...</th>\n",
       "      <th>My work is/was not recognized</th>\n",
       "      <th>I don’t/din't feel integrated in the organization/company</th>\n",
       "      <th>I can/could not have a good life-work balance</th>\n",
       "      <th>I am/was not paid enough</th>\n",
       "      <th>I do/did not enjoy my job</th>\n",
       "      <th>I do/did not have any guidance</th>\n",
       "      <th>I do/did not feel great prospects of growing inside this company</th>\n",
       "      <th>Other_negative_answer</th>\n",
       "      <th>last_graduation_year</th>\n",
       "      <th>experience_aft_gra</th>\n",
       "    </tr>\n",
       "  </thead>\n",
       "  <tbody>\n",
       "    <tr>\n",
       "      <th>0</th>\n",
       "      <td>2022-11-07 20:47:58.368</td>\n",
       "      <td>Female</td>\n",
       "      <td>34.0</td>\n",
       "      <td>Architecture,  civil engineering and related a...</td>\n",
       "      <td>Europe</td>\n",
       "      <td>Portugal</td>\n",
       "      <td>Yes</td>\n",
       "      <td>2014.0</td>\n",
       "      <td>No</td>\n",
       "      <td>No</td>\n",
       "      <td>...</td>\n",
       "      <td>0</td>\n",
       "      <td>0</td>\n",
       "      <td>0</td>\n",
       "      <td>0</td>\n",
       "      <td>0</td>\n",
       "      <td>0</td>\n",
       "      <td>0</td>\n",
       "      <td>sd</td>\n",
       "      <td>2014.0</td>\n",
       "      <td>8.0</td>\n",
       "    </tr>\n",
       "    <tr>\n",
       "      <th>1</th>\n",
       "      <td>2022-11-07 20:57:41.684</td>\n",
       "      <td>Female</td>\n",
       "      <td>24.0</td>\n",
       "      <td>Marketing</td>\n",
       "      <td>Europe</td>\n",
       "      <td>Portugal</td>\n",
       "      <td>Yes</td>\n",
       "      <td>2019.0</td>\n",
       "      <td>Yes</td>\n",
       "      <td>Yes</td>\n",
       "      <td>...</td>\n",
       "      <td>0</td>\n",
       "      <td>0</td>\n",
       "      <td>0</td>\n",
       "      <td>1</td>\n",
       "      <td>1</td>\n",
       "      <td>1</td>\n",
       "      <td>1</td>\n",
       "      <td>0</td>\n",
       "      <td>2021.0</td>\n",
       "      <td>1.0</td>\n",
       "    </tr>\n",
       "  </tbody>\n",
       "</table>\n",
       "<p>2 rows × 40 columns</p>\n",
       "</div>"
      ],
      "text/plain": [
       "                Timestamp       1     2  \\\n",
       "0 2022-11-07 20:47:58.368  Female  34.0   \n",
       "1 2022-11-07 20:57:41.684  Female  24.0   \n",
       "\n",
       "                                                   3       4         5    6  \\\n",
       "0  Architecture,  civil engineering and related a...  Europe  Portugal  Yes   \n",
       "1                                          Marketing  Europe  Portugal  Yes   \n",
       "\n",
       "        7    8    9  ...  My work is/was not recognized  \\\n",
       "0  2014.0   No   No  ...                              0   \n",
       "1  2019.0  Yes  Yes  ...                              0   \n",
       "\n",
       "  I don’t/din't feel integrated in the organization/company  \\\n",
       "0                                                  0          \n",
       "1                                                  0          \n",
       "\n",
       "  I can/could not have a good life-work balance I am/was not paid enough  \\\n",
       "0                                             0                        0   \n",
       "1                                             0                        1   \n",
       "\n",
       "  I do/did not enjoy my job I do/did not have any guidance  \\\n",
       "0                         0                              0   \n",
       "1                         1                              1   \n",
       "\n",
       "  I do/did not feel great prospects of growing inside this company  \\\n",
       "0                                                  0                 \n",
       "1                                                  1                 \n",
       "\n",
       "  Other_negative_answer last_graduation_year experience_aft_gra  \n",
       "0                    sd               2014.0                8.0  \n",
       "1                     0               2021.0                1.0  \n",
       "\n",
       "[2 rows x 40 columns]"
      ]
     },
     "execution_count": 76,
     "metadata": {},
     "output_type": "execute_result"
    }
   ],
   "source": [
    "\n",
    "#inserting '16' into columns:\n",
    "post_ans = [\"I ‘m/was challenged everyday and I enjoy it.\",\"I have/had a good life-work balance\",\"I have/had a fair salary\",\"I have/had freedom to work how I like\",\"I enjoy/enjoyed  my work\",\"I feel/felt stimulated and well guided in the beginning\"]\n",
    "\n",
    "for ans in post_ans:\n",
    "    survey[ans.strip()] = survey.apply(find_answers16, axis=1, args=[ans])\n",
    "\n",
    "survey[\"Other_positive_answer\"] = survey.apply(find_open_pos_answers16, axis=1)\n",
    "\n",
    "\n",
    "#inserting '17' into columns:\n",
    "neg_ans = [\"I ‘m/was not challenged everyday\",\"My work is/was not recognized\",\"I don’t/din't feel integrated in the organization/company\",\"I can/could not have a good life-work balance\",\"I am/was not paid enough\",\"I do/did not enjoy my job\",\"I do/did not have any guidance\",\"I do/did not feel great prospects of growing inside this company\"] \n",
    "\n",
    "for ans in neg_ans:\n",
    "    survey[ans.strip()] = survey.apply(find_answers17, axis=1, args=[ans])\n",
    "\n",
    "survey[\"Other_negative_answer\"] = survey.apply(find_open_neg_answers17, axis=1)\n",
    "\n",
    "survey.head(2)"
   ]
  },
  {
   "cell_type": "code",
   "execution_count": 57,
   "metadata": {},
   "outputs": [
    {
     "data": {
      "text/html": [
       "<div>\n",
       "<style scoped>\n",
       "    .dataframe tbody tr th:only-of-type {\n",
       "        vertical-align: middle;\n",
       "    }\n",
       "\n",
       "    .dataframe tbody tr th {\n",
       "        vertical-align: top;\n",
       "    }\n",
       "\n",
       "    .dataframe thead th {\n",
       "        text-align: right;\n",
       "    }\n",
       "</style>\n",
       "<table border=\"1\" class=\"dataframe\">\n",
       "  <thead>\n",
       "    <tr style=\"text-align: right;\">\n",
       "      <th></th>\n",
       "      <th>Timestamp</th>\n",
       "      <th>1</th>\n",
       "      <th>2</th>\n",
       "      <th>3</th>\n",
       "      <th>4</th>\n",
       "      <th>5</th>\n",
       "      <th>6</th>\n",
       "      <th>7</th>\n",
       "      <th>8</th>\n",
       "      <th>9</th>\n",
       "      <th>...</th>\n",
       "      <th>Other_positive_answer</th>\n",
       "      <th>I ‘m/was not challenged everyday</th>\n",
       "      <th>My work is/was not recognized</th>\n",
       "      <th>I don’t/din't feel integrated in the organization/company</th>\n",
       "      <th>I can/could not have a good life-work balance</th>\n",
       "      <th>I am/was not paid enough</th>\n",
       "      <th>I do/did not enjoy my job</th>\n",
       "      <th>I do/did not have any guidance</th>\n",
       "      <th>I do/did not feel great prospects of growing inside this company</th>\n",
       "      <th>Other_negative_answer</th>\n",
       "    </tr>\n",
       "  </thead>\n",
       "  <tbody>\n",
       "  </tbody>\n",
       "</table>\n",
       "<p>0 rows × 38 columns</p>\n",
       "</div>"
      ],
      "text/plain": [
       "Empty DataFrame\n",
       "Columns: [Timestamp, 1, 2, 3, 4, 5, 6, 7, 8, 9, 10, 11, 12, 13, 14, 15, 16, 17, 18, 19, 20, 21, I ‘m/was challenged everyday and I enjoy it., I have/had a good life-work balance, I have/had a fair salary, I have/had freedom to work how I like, I enjoy/enjoyed  my work, I feel/felt stimulated and well guided in the beginning, Other_positive_answer, I ‘m/was not challenged everyday, My work is/was not recognized, I don’t/din't feel integrated in the organization/company, I can/could not have a good life-work balance, I am/was not paid enough, I do/did not enjoy my job, I do/did not have any guidance, I do/did not feel great prospects of growing inside this company, Other_negative_answer]\n",
       "Index: []\n",
       "\n",
       "[0 rows x 38 columns]"
      ]
     },
     "execution_count": 57,
     "metadata": {},
     "output_type": "execute_result"
    }
   ],
   "source": [
    "# [8] and [9] logic\n",
    "survey[(survey[8] == 'No') & (survey[9] == 'Yes')]"
   ]
  },
  {
   "cell_type": "code",
   "execution_count": 58,
   "metadata": {},
   "outputs": [
    {
     "data": {
      "text/plain": [
       "55"
      ]
     },
     "execution_count": 58,
     "metadata": {},
     "output_type": "execute_result"
    }
   ],
   "source": [
    "len(survey)"
   ]
  },
  {
   "cell_type": "code",
   "execution_count": 59,
   "metadata": {},
   "outputs": [],
   "source": [
    "#Drop rows from who didn't compleated the studies\n",
    "survey.dropna(subset=[7], inplace=True)\n",
    "\n",
    "#replace nulls\n",
    "survey[8].fillna(\"No\", inplace=True)\n",
    "survey[9].fillna(\"No\", inplace=True)\n",
    "survey[10].fillna(0, inplace=True)"
   ]
  },
  {
   "cell_type": "code",
   "execution_count": 78,
   "metadata": {},
   "outputs": [
    {
     "data": {
      "text/plain": [
       "41"
      ]
     },
     "execution_count": 78,
     "metadata": {},
     "output_type": "execute_result"
    }
   ],
   "source": [
    "len(survey)"
   ]
  },
  {
   "cell_type": "code",
   "execution_count": 60,
   "metadata": {},
   "outputs": [
    {
     "name": "stdout",
     "output_type": "stream",
     "text": [
      "This indexs doens't existes\n",
      " [5, 20, 25, 32, 33, 34, 37] \n",
      " Were dropped  7  rows\n"
     ]
    },
    {
     "name": "stderr",
     "output_type": "stream",
     "text": [
      "C:\\Users\\inesa\\AppData\\Local\\Temp\\ipykernel_4580\\1031435786.py:6: SettingWithCopyWarning: \n",
      "A value is trying to be set on a copy of a slice from a DataFrame\n",
      "\n",
      "See the caveats in the documentation: https://pandas.pydata.org/pandas-docs/stable/user_guide/indexing.html#returning-a-view-versus-a-copy\n",
      "  survey[7][i] = float(str(survey[7][i])[:4])\n"
     ]
    }
   ],
   "source": [
    "# correct misspelled dates\n",
    "index = []\n",
    "for i in range(len(survey)):\n",
    "    try:\n",
    "        if len(str(survey[7][i])) > 6:\n",
    "            survey[7][i] = float(str(survey[7][i])[:4])\n",
    "    except:\n",
    "        index.append(i)\n",
    "        pass\n",
    "print(\"This indexs doens't existes\\n\", index,\"\\n Were dropped \", len(index),\" rows\")"
   ]
  },
  {
   "cell_type": "code",
   "execution_count": 61,
   "metadata": {},
   "outputs": [
    {
     "name": "stderr",
     "output_type": "stream",
     "text": [
      "C:\\Users\\inesa\\AppData\\Local\\Temp\\ipykernel_4580\\1332147550.py:5: SettingWithCopyWarning: \n",
      "A value is trying to be set on a copy of a slice from a DataFrame\n",
      "\n",
      "See the caveats in the documentation: https://pandas.pydata.org/pandas-docs/stable/user_guide/indexing.html#returning-a-view-versus-a-copy\n",
      "  survey[10][i] = 0\n"
     ]
    }
   ],
   "source": [
    "# correct second dates\n",
    "for i in range(len(survey)):\n",
    "    try:\n",
    "        if survey[9][i] == \"No\":\n",
    "            survey[10][i] = 0\n",
    "    except:\n",
    "        pass\n"
   ]
  },
  {
   "cell_type": "code",
   "execution_count": 62,
   "metadata": {},
   "outputs": [
    {
     "data": {
      "text/plain": [
       "7       8    9    10    \n",
       "2014.0  No   No   0.0       6\n",
       "2019.0  No   No   0.0       5\n",
       "2022.0  No   No   0.0       4\n",
       "2013.0  No   No   0.0       4\n",
       "2021.0  No   No   0.0       3\n",
       "2020.0  No   No   0.0       3\n",
       "2016.0  No   No   0.0       3\n",
       "2019.0  Yes  Yes  2021.0    3\n",
       "             No   0.0       1\n",
       "2020.0  Yes  Yes  2018.0    1\n",
       "2019.0  Yes  Yes  2017.0    1\n",
       "1983.0  Yes  Yes  2011.0    1\n",
       "1989.0  No   No   0.0       1\n",
       "2017.0  Yes  Yes  2013.0    1\n",
       "2011.0  Yes  Yes  2022.0    1\n",
       "2009.0  Yes  No   0.0       1\n",
       "2008.0  No   No   0.0       1\n",
       "2017.0  Yes  Yes  2022.0    1\n",
       "dtype: int64"
      ]
     },
     "execution_count": 62,
     "metadata": {},
     "output_type": "execute_result"
    }
   ],
   "source": [
    "survey[[7,8,9,10]].value_counts()"
   ]
  },
  {
   "cell_type": "code",
   "execution_count": 63,
   "metadata": {},
   "outputs": [
    {
     "data": {
      "text/html": [
       "<div>\n",
       "<style scoped>\n",
       "    .dataframe tbody tr th:only-of-type {\n",
       "        vertical-align: middle;\n",
       "    }\n",
       "\n",
       "    .dataframe tbody tr th {\n",
       "        vertical-align: top;\n",
       "    }\n",
       "\n",
       "    .dataframe thead th {\n",
       "        text-align: right;\n",
       "    }\n",
       "</style>\n",
       "<table border=\"1\" class=\"dataframe\">\n",
       "  <thead>\n",
       "    <tr style=\"text-align: right;\">\n",
       "      <th></th>\n",
       "      <th>7</th>\n",
       "      <th>10</th>\n",
       "      <th>last_graduation_year</th>\n",
       "    </tr>\n",
       "  </thead>\n",
       "  <tbody>\n",
       "    <tr>\n",
       "      <th>0</th>\n",
       "      <td>2014.0</td>\n",
       "      <td>0.0</td>\n",
       "      <td>2014.0</td>\n",
       "    </tr>\n",
       "    <tr>\n",
       "      <th>1</th>\n",
       "      <td>2019.0</td>\n",
       "      <td>2021.0</td>\n",
       "      <td>2021.0</td>\n",
       "    </tr>\n",
       "  </tbody>\n",
       "</table>\n",
       "</div>"
      ],
      "text/plain": [
       "        7      10  last_graduation_year\n",
       "0  2014.0     0.0                2014.0\n",
       "1  2019.0  2021.0                2021.0"
      ]
     },
     "execution_count": 63,
     "metadata": {},
     "output_type": "execute_result"
    }
   ],
   "source": [
    "# Add column 'last_graduation_year'\n",
    "\n",
    "survey['last_graduation_year'] = survey[[7,10]].values.max(1)\n",
    "survey[[7,10,'last_graduation_year']].head(2)\n",
    "\n"
   ]
  },
  {
   "cell_type": "code",
   "execution_count": 64,
   "metadata": {},
   "outputs": [
    {
     "data": {
      "text/plain": [
       "0      8.0\n",
       "1      1.0\n",
       "2      8.0\n",
       "3     33.0\n",
       "4      8.0\n",
       "6      2.0\n",
       "7      8.0\n",
       "8      2.0\n",
       "9      1.0\n",
       "10     6.0\n",
       "11     8.0\n",
       "12     3.0\n",
       "13    13.0\n",
       "14     6.0\n",
       "15     1.0\n",
       "16     9.0\n",
       "17     1.0\n",
       "18     9.0\n",
       "19     0.0\n",
       "21     2.0\n",
       "22     6.0\n",
       "23     0.0\n",
       "24     3.0\n",
       "26     0.0\n",
       "27     8.0\n",
       "28     3.0\n",
       "29     9.0\n",
       "30     9.0\n",
       "31     3.0\n",
       "35     3.0\n",
       "36     0.0\n",
       "38    11.0\n",
       "39     5.0\n",
       "40     1.0\n",
       "41     2.0\n",
       "43    14.0\n",
       "44     1.0\n",
       "49     0.0\n",
       "50     3.0\n",
       "52     3.0\n",
       "54     0.0\n",
       "Name: experience_aft_gra, dtype: float64"
      ]
     },
     "execution_count": 64,
     "metadata": {},
     "output_type": "execute_result"
    }
   ],
   "source": [
    "# Distance Between last Graduation and now. Working experience after last graduation\n",
    "survey[\"experience_aft_gra\"] = 2022 - survey['last_graduation_year']\n",
    "survey[\"experience_aft_gra\"]"
   ]
  },
  {
   "cell_type": "code",
   "execution_count": 68,
   "metadata": {},
   "outputs": [
    {
     "data": {
      "text/plain": [
       "Yes. Maximum of 3 months.                                                                                   18\n",
       "More or less. Maximum of 6 months.                                                                           5\n",
       "No. It took me more than 6 months.                                                                           5\n",
       "I’m working in another area.                                                                                 5\n",
       "I’m working in another area but the degree helped me to find this job.                                       2\n",
       "I was my own boss                                                                                            1\n",
       "I started my own business                                                                                    1\n",
       "I was kinda working in the area                                                                              1\n",
       "I didn't look for a job after                                                                                1\n",
       "No, covid was just starting and I was trying to find a job in another country so that I could immigrate.     1\n",
       "I started a master now but I am worried about not finding a job related to my field of study                 1\n",
       "Name: 11, dtype: int64"
      ]
     },
     "execution_count": 68,
     "metadata": {},
     "output_type": "execute_result"
    }
   ],
   "source": [
    "survey[11].value_counts()"
   ]
  },
  {
   "cell_type": "code",
   "execution_count": 69,
   "metadata": {},
   "outputs": [],
   "source": [
    "survey[13].fillna(\"nothing to add\", inplace=True)\n",
    "survey[20].fillna(\"no extra course\", inplace=True)\n",
    "survey[21].fillna(\"Yes\", inplace=True)"
   ]
  },
  {
   "cell_type": "code",
   "execution_count": 70,
   "metadata": {},
   "outputs": [
    {
     "data": {
      "text/plain": [
       "0                                        nothing to add\n",
       "1     It was very boring and my boss was very absent...\n",
       "2     Lake of payment and a lot of stress with rotat...\n",
       "3     Porque comecei a trabalhar na area do curso qu...\n",
       "4                               I din't have experience\n",
       "6       Still haven't found first job after graduation.\n",
       "7                                   Lack of experience \n",
       "8                                        nothing to add\n",
       "9                         It’s different from my degree\n",
       "10                     Learned a lot in different areas\n",
       "11                                       nothing to add\n",
       "12                                       nothing to add\n",
       "13                                       nothing to add\n",
       "14    I was overworked, covering multiple positions,...\n",
       "15                                       nothing to add\n",
       "16        poor salary, less recognition of the job role\n",
       "17                                       nothing to add\n",
       "18                                       nothing to add\n",
       "19                             More work than I thought\n",
       "21                                       nothing to add\n",
       "22    It was what I imaged a life in a lab would be,...\n",
       "23                                   High expectations \n",
       "24                                       nothing to add\n",
       "26                Did placements so knew what to expect\n",
       "27    I was looking for a general job in an area tha...\n",
       "28                                                Covid\n",
       "29                                       nothing to add\n",
       "30    It was a lot more intense than I expected, I f...\n",
       "31                                       nothing to add\n",
       "35    I was fresh out of college and was getting a d...\n",
       "36                                  Met my expectations\n",
       "38       Had to take anything jobs were hard to come by\n",
       "39    I couldn't afford my own place even though I w...\n",
       "40                    It was difficult than I imagined \n",
       "41          Real world problems was not taught in books\n",
       "43                                       nothing to add\n",
       "44                                       nothing to add\n",
       "49    I expected to know almost nothing relevant to ...\n",
       "50                                       nothing to add\n",
       "52    Terrible conditions, low salary, zero apprecia...\n",
       "54    It relates to my internship and it is related ...\n",
       "Name: 13, dtype: object"
      ]
     },
     "execution_count": 70,
     "metadata": {},
     "output_type": "execute_result"
    }
   ],
   "source": [
    "### ????? probably I can do a Bag of words with this next and separate by happy or not with the fist exp and compare with career evolution\n",
    "survey[13]"
   ]
  },
  {
   "cell_type": "code",
   "execution_count": 71,
   "metadata": {},
   "outputs": [
    {
     "data": {
      "text/plain": [
       "Timestamp                                                           0\n",
       "1                                                                   0\n",
       "I ‘m/was challenged everyday and I enjoy it.                        0\n",
       "I have/had a good life-work balance                                 0\n",
       "I have/had a fair salary                                            0\n",
       "I have/had freedom to work how I like                               0\n",
       "I enjoy/enjoyed  my work                                            0\n",
       "I feel/felt stimulated and well guided in the beginning             0\n",
       "Other_positive_answer                                               0\n",
       "I ‘m/was not challenged everyday                                    0\n",
       "My work is/was not recognized                                       0\n",
       "I don’t/din't feel integrated in the organization/company           0\n",
       "I can/could not have a good life-work balance                       0\n",
       "I am/was not paid enough                                            0\n",
       "I do/did not enjoy my job                                           0\n",
       "I do/did not have any guidance                                      0\n",
       "I do/did not feel great prospects of growing inside this company    0\n",
       "Other_negative_answer                                               0\n",
       "last_graduation_year                                                0\n",
       "21                                                                  0\n",
       "20                                                                  0\n",
       "19                                                                  0\n",
       "9                                                                   0\n",
       "2                                                                   0\n",
       "3                                                                   0\n",
       "4                                                                   0\n",
       "5                                                                   0\n",
       "6                                                                   0\n",
       "7                                                                   0\n",
       "8                                                                   0\n",
       "10                                                                  0\n",
       "18                                                                  0\n",
       "11                                                                  0\n",
       "12                                                                  0\n",
       "13                                                                  0\n",
       "14                                                                  0\n",
       "15                                                                  0\n",
       "16                                                                  0\n",
       "17                                                                  0\n",
       "experience_aft_gra                                                  0\n",
       "dtype: int64"
      ]
     },
     "execution_count": 71,
     "metadata": {},
     "output_type": "execute_result"
    }
   ],
   "source": [
    "# STILL NULLS?\n",
    "survey.isnull().sum().sort_values(ascending=False)"
   ]
  },
  {
   "cell_type": "code",
   "execution_count": null,
   "metadata": {},
   "outputs": [],
   "source": [
    "#??? Look for normalize open answers"
   ]
  },
  {
   "cell_type": "code",
   "execution_count": 79,
   "metadata": {},
   "outputs": [],
   "source": [
    "survey.to_excel(\"Survey_Corrected.xlsx\", index=False)"
   ]
  },
  {
   "cell_type": "code",
   "execution_count": null,
   "metadata": {},
   "outputs": [],
   "source": []
  }
 ],
 "metadata": {
  "kernelspec": {
   "display_name": "Python 3.9.13 ('ironhack')",
   "language": "python",
   "name": "python3"
  },
  "language_info": {
   "codemirror_mode": {
    "name": "ipython",
    "version": 3
   },
   "file_extension": ".py",
   "mimetype": "text/x-python",
   "name": "python",
   "nbconvert_exporter": "python",
   "pygments_lexer": "ipython3",
   "version": "3.9.15"
  },
  "orig_nbformat": 4,
  "vscode": {
   "interpreter": {
    "hash": "b52c70b0c498f74ff157f351076d810f77b2bb2ce7a98fe9a6e097a72ab01d5a"
   }
  }
 },
 "nbformat": 4,
 "nbformat_minor": 2
}
