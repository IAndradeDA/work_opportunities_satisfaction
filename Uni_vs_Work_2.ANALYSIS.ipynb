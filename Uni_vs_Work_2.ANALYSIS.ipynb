{
 "cells": [
  {
   "cell_type": "code",
   "execution_count": 2,
   "metadata": {},
   "outputs": [],
   "source": [
    "import pandas as pd\n",
    "import numpy as np\n",
    "import scipy.stats as st"
   ]
  },
  {
   "cell_type": "code",
   "execution_count": 3,
   "metadata": {},
   "outputs": [],
   "source": [
    "# independence test - chi2 contigency\n",
    "# pd.crosstab"
   ]
  },
  {
   "cell_type": "code",
   "execution_count": 4,
   "metadata": {},
   "outputs": [
    {
     "data": {
      "text/html": [
       "<div>\n",
       "<style scoped>\n",
       "    .dataframe tbody tr th:only-of-type {\n",
       "        vertical-align: middle;\n",
       "    }\n",
       "\n",
       "    .dataframe tbody tr th {\n",
       "        vertical-align: top;\n",
       "    }\n",
       "\n",
       "    .dataframe thead th {\n",
       "        text-align: right;\n",
       "    }\n",
       "</style>\n",
       "<table border=\"1\" class=\"dataframe\">\n",
       "  <thead>\n",
       "    <tr style=\"text-align: right;\">\n",
       "      <th></th>\n",
       "      <th>Timestamp</th>\n",
       "      <th>1</th>\n",
       "      <th>2</th>\n",
       "      <th>3</th>\n",
       "      <th>4</th>\n",
       "      <th>5</th>\n",
       "      <th>6</th>\n",
       "      <th>7</th>\n",
       "      <th>8</th>\n",
       "      <th>9</th>\n",
       "      <th>...</th>\n",
       "      <th>My work is/was not recognized</th>\n",
       "      <th>I don’t/din't feel integrated in the organization/company</th>\n",
       "      <th>I can/could not have a good life-work balance</th>\n",
       "      <th>I am/was not paid enough</th>\n",
       "      <th>I do/did not enjoy my job</th>\n",
       "      <th>I do/did not have any guidance</th>\n",
       "      <th>I do/did not feel great prospects of growing inside this company</th>\n",
       "      <th>Other_negative_answer</th>\n",
       "      <th>last_graduation_year</th>\n",
       "      <th>experience_aft_gra</th>\n",
       "    </tr>\n",
       "  </thead>\n",
       "  <tbody>\n",
       "    <tr>\n",
       "      <th>0</th>\n",
       "      <td>2022-11-07 20:47:58.368</td>\n",
       "      <td>Female</td>\n",
       "      <td>34</td>\n",
       "      <td>Architecture,  civil engineering and related a...</td>\n",
       "      <td>Europe</td>\n",
       "      <td>Portugal</td>\n",
       "      <td>Yes</td>\n",
       "      <td>2014</td>\n",
       "      <td>No</td>\n",
       "      <td>No</td>\n",
       "      <td>...</td>\n",
       "      <td>0</td>\n",
       "      <td>0</td>\n",
       "      <td>0</td>\n",
       "      <td>0</td>\n",
       "      <td>0</td>\n",
       "      <td>0</td>\n",
       "      <td>0</td>\n",
       "      <td>sd</td>\n",
       "      <td>2014</td>\n",
       "      <td>8</td>\n",
       "    </tr>\n",
       "    <tr>\n",
       "      <th>1</th>\n",
       "      <td>2022-11-07 20:57:41.684</td>\n",
       "      <td>Female</td>\n",
       "      <td>24</td>\n",
       "      <td>Marketing</td>\n",
       "      <td>Europe</td>\n",
       "      <td>Portugal</td>\n",
       "      <td>Yes</td>\n",
       "      <td>2019</td>\n",
       "      <td>Yes</td>\n",
       "      <td>Yes</td>\n",
       "      <td>...</td>\n",
       "      <td>0</td>\n",
       "      <td>0</td>\n",
       "      <td>0</td>\n",
       "      <td>1</td>\n",
       "      <td>1</td>\n",
       "      <td>1</td>\n",
       "      <td>1</td>\n",
       "      <td>0</td>\n",
       "      <td>2021</td>\n",
       "      <td>1</td>\n",
       "    </tr>\n",
       "  </tbody>\n",
       "</table>\n",
       "<p>2 rows × 40 columns</p>\n",
       "</div>"
      ],
      "text/plain": [
       "                Timestamp       1   2  \\\n",
       "0 2022-11-07 20:47:58.368  Female  34   \n",
       "1 2022-11-07 20:57:41.684  Female  24   \n",
       "\n",
       "                                                   3       4         5    6  \\\n",
       "0  Architecture,  civil engineering and related a...  Europe  Portugal  Yes   \n",
       "1                                          Marketing  Europe  Portugal  Yes   \n",
       "\n",
       "      7    8    9  ...  My work is/was not recognized  \\\n",
       "0  2014   No   No  ...                              0   \n",
       "1  2019  Yes  Yes  ...                              0   \n",
       "\n",
       "  I don’t/din't feel integrated in the organization/company  \\\n",
       "0                                                  0          \n",
       "1                                                  0          \n",
       "\n",
       "  I can/could not have a good life-work balance I am/was not paid enough  \\\n",
       "0                                             0                        0   \n",
       "1                                             0                        1   \n",
       "\n",
       "  I do/did not enjoy my job I do/did not have any guidance  \\\n",
       "0                         0                              0   \n",
       "1                         1                              1   \n",
       "\n",
       "  I do/did not feel great prospects of growing inside this company  \\\n",
       "0                                                  0                 \n",
       "1                                                  1                 \n",
       "\n",
       "  Other_negative_answer last_graduation_year experience_aft_gra  \n",
       "0                    sd                 2014                  8  \n",
       "1                     0                 2021                  1  \n",
       "\n",
       "[2 rows x 40 columns]"
      ]
     },
     "execution_count": 4,
     "metadata": {},
     "output_type": "execute_result"
    }
   ],
   "source": [
    "survey = pd.read_excel(r\"Survey_Corrected.xlsx\")\n",
    "survey.head(2)"
   ]
  },
  {
   "cell_type": "code",
   "execution_count": 5,
   "metadata": {},
   "outputs": [],
   "source": [
    "# The questions are (corresponding to the numbers):\n",
    "col_names1 = ['Timestamp',\n",
    " '1.  What is your gender?',\n",
    " '2. How old are you?',\n",
    " '3. What is the area of your studies at University?',\n",
    " '4. Where did you take the course?',\n",
    " '5. Please specify the country:',\n",
    " '6.  Have you completed your studies?',\n",
    " '7. In what year did you complete your degree?',\n",
    " '8. Did you take one second course in University?',\n",
    " '9. If yes, did you complete this second course?',\n",
    " '10. When did you complete this second course ?',\n",
    " '11. Does the search for your first job (after graduation) was easy?',\n",
    " '12. The experience of your first job was what you expected?',\n",
    " '13. Why?',\n",
    " '14. Did you feel the need to look for work abroad?',\n",
    " '15. Are you satisfied with the evolution of your career? ',\n",
    " '16. Select the options below that better fits your positive thoughts about your current or last work experience:',\n",
    " '17. Select the options below that better fits your negative thoughts about your current or last work experience:',\n",
    " '18. Do you feel that your University studies matches with what you aspirated?',\n",
    " '19. Did you take another specialization course/MBA/Phd/Bootcamp?',\n",
    " '20. If yes, what was the course/MBA/Phd/Bootcamp? And Why?',\n",
    " '21. Do you feel that you need/had to change career to have more work opportunities? ']"
   ]
  },
  {
   "cell_type": "code",
   "execution_count": 6,
   "metadata": {},
   "outputs": [
    {
     "data": {
      "text/plain": [
       "array(['I ‘m/was challenged everyday and I enjoy it.',\n",
       "       'I have/had a good life-work balance', 'I have/had a fair salary',\n",
       "       'I have/had freedom to work how I like',\n",
       "       'I enjoy/enjoyed  my work',\n",
       "       'I feel/felt stimulated and well guided in the beginning',\n",
       "       'Other_positive_answer', 'I ‘m/was not challenged everyday',\n",
       "       'My work is/was not recognized',\n",
       "       \"I don’t/din't feel integrated in the organization/company\",\n",
       "       'I can/could not have a good life-work balance',\n",
       "       'I am/was not paid enough', 'I do/did not enjoy my job',\n",
       "       'I do/did not have any guidance',\n",
       "       'I do/did not feel great prospects of growing inside this company',\n",
       "       'Other_negative_answer', 'last_graduation_year',\n",
       "       'experience_aft_gra'], dtype=object)"
      ]
     },
     "execution_count": 6,
     "metadata": {},
     "output_type": "execute_result"
    }
   ],
   "source": [
    "# Columns that were added\n",
    "col_names2 = survey.iloc[:,22:].columns.values\n",
    "col_names2"
   ]
  },
  {
   "cell_type": "code",
   "execution_count": 7,
   "metadata": {},
   "outputs": [
    {
     "data": {
      "text/plain": [
       "Yes.  But I stayed in my country.               16\n",
       "No.                                             13\n",
       "Yes.  And I went to work in another country.    12\n",
       "Name: 14, dtype: int64"
      ]
     },
     "execution_count": 7,
     "metadata": {},
     "output_type": "execute_result"
    }
   ],
   "source": [
    "survey[14].value_counts()"
   ]
  },
  {
   "cell_type": "code",
   "execution_count": 8,
   "metadata": {},
   "outputs": [],
   "source": [
    "# Correlação entre das colunas e ver se estas são independentes \n",
    "#         Pais   Oppo\n",
    "# x -  20        10\n",
    "# y - "
   ]
  },
  {
   "cell_type": "code",
   "execution_count": 9,
   "metadata": {},
   "outputs": [],
   "source": [
    "# HYPOTHESIS\n",
    "\n",
    "# 1 - H0 NOT REJECTED\n",
    "# H0: people satisfied with 1st job [12] INDEPENDENT looking work abroad [14] \n",
    "# H1: people satisfied with 1st job [12] DEPENDENT looking work abroad [14] \n",
    "\n",
    "# 2 - H0 NOT REJECTED\n",
    "# H0: career evolution satisfaction [15] INDEPENDENT working abroad [14]\n",
    "# H1: career evolution satisfaction [15] DEPENDENT working abroad [14]\n",
    "\n",
    "# 3 - H0 NOT REJECTED\n",
    "# H0: career evolution satisfaction [15] INDEPENDENT aspirations [18]\n",
    "# H1: career evolution satisfaction [15] INDEPENDENT aspirations [18]\n",
    "\n",
    "# 4 - *** H0 REJECTED ***\n",
    "# H0: career evolution satisfaction [15] INDEPENDENT taking another course/MBA/Phd/Bootcamp [19]\n",
    "# H1: career evolution satisfaction [15] DEPENDENT taking another course/MBA/Phd/Bootcamp [19]\n",
    "\n",
    "# 5 - H0 NOT REJECTED\n",
    "# H0: career evolution satisfaction [15] INDEPENDENT changing career for more opportunities [21]\n",
    "# H1: career evolution satisfaction [15] DEPENDENT changing career for more opportunities [21]\n",
    "\n",
    "# 6 - H0 NOT REJECTED\n",
    "# H0: area of university studies [3] INDEPENDENT taking another course/MBA/Phd/Bootcamp in different area [19]\n",
    "# H1: area of university studies DEPENDENT taking another course/MBA/Phd/Bootcamp in different area [19]\n",
    "\n",
    "# 7 - H0 NOT REJECTED\n",
    "# H0: areas of study [3] INDEPENDENT career evolution [15]\n",
    "# H1: areas of study [3] DEPENDENT career evolution [15]\n",
    "\n",
    "# 8 - H0 NOT REJECTED\n",
    "# H0: career evolution [15] INDEPENDENT Countries [5] \n",
    "# H1: career evolution [15] DEPENDENT Countries [5]\n",
    "\n",
    "# 9 - H0 NOT REJECTED\n",
    "# H0: Opportunities perception by changing career [21] INDEPENDENT Countries [5]\n",
    "# H1: Opportunities perception by changing career [21] DEPENDENT Countries [5]\n",
    "\n",
    "# 10 - H0 NOT REJECTED\n",
    "# H0: working experience ['experience_aft_gra'] INDEPENDENT career evolution [15] \n",
    "# H1: working experience ['experience_aft_gra'] INDEPENDENT career evolution [15] \n",
    "\n",
    "# 11 - H0 NOT REJECTED\n",
    "# H0: working experience ['experience_aft_gra'] INDEPENDENT career evolution [15] in Portugal\n",
    "# H1: working experience ['experience_aft_gra'] INDEPENDENT career evolution [15] in Portugal\n",
    "\n",
    "# 12 - H0 NOT REJECTED\n",
    "# H0: people satisfied with 1st job [12] INDEPENDENT country\n",
    "# H1: people satisfied with 1st job [12] DEPENDENT country\n",
    "\n",
    "# working expirience ~ others\n",
    "\n",
    "# satisfied with their first job ['Yes' in 12]\n",
    "\n",
    "#  didn't look for work abroad nor think about it ['No' in 14]\n",
    "\n",
    "#   are satisfied with the evolution of the career ['Yes' 15]  \n",
    "\n",
    "#  feel that University studies matches with what they aspirated ['Yes' in 18]\n",
    "\n",
    "#  better and more work opportunities ['No' or 'Not necessarily' in 21]\n",
    "\n",
    "# How work more time are more or less satisfaied\n",
    "\n"
   ]
  },
  {
   "cell_type": "code",
   "execution_count": 10,
   "metadata": {},
   "outputs": [
    {
     "data": {
      "text/plain": [
       "Portugal           21\n",
       "Brazil              2\n",
       "United States       2\n",
       "United Kingdom      2\n",
       "Usa                 2\n",
       "Colombia            1\n",
       "South Africa        1\n",
       "Uk                  1\n",
       "Ireland             1\n",
       "Austria             1\n",
       "Denmark             1\n",
       "Egypt               1\n",
       "Australia           1\n",
       "Canada              1\n",
       "China               1\n",
       "New Zealand         1\n",
       "The Netherlands     1\n",
       "Name: 5, dtype: int64"
      ]
     },
     "execution_count": 10,
     "metadata": {},
     "output_type": "execute_result"
    }
   ],
   "source": [
    "survey[5].value_counts()"
   ]
  },
  {
   "cell_type": "code",
   "execution_count": 11,
   "metadata": {},
   "outputs": [
    {
     "data": {
      "text/plain": [
       "Yes                23\n",
       "Not necessarily    10\n",
       "No                  8\n",
       "Name: 21, dtype: int64"
      ]
     },
     "execution_count": 11,
     "metadata": {},
     "output_type": "execute_result"
    }
   ],
   "source": [
    "survey[21].value_counts()"
   ]
  },
  {
   "cell_type": "markdown",
   "metadata": {},
   "source": [
    "# 1 Hypotese"
   ]
  },
  {
   "cell_type": "code",
   "execution_count": 12,
   "metadata": {},
   "outputs": [
    {
     "name": "stdout",
     "output_type": "stream",
     "text": [
      "The significance level is:  0.05\n"
     ]
    },
    {
     "data": {
      "text/plain": [
       "(2.7061307754242536,\n",
       " 0.25844680548158955,\n",
       " 2,\n",
       " array([[7.29268293, 6.73170732, 8.97560976],\n",
       "        [5.70731707, 5.26829268, 7.02439024]]))"
      ]
     },
     "execution_count": 12,
     "metadata": {},
     "output_type": "execute_result"
    }
   ],
   "source": [
    "# 1) SET THE HYPOTHESIS\n",
    "# H0: people satisfied with 1st job [12] INDEPENDENT looking work abroad [14] \n",
    "# H1: people satisfied with 1st job [12] DEPENDENT looking work abroad [14] \n",
    "\n",
    "\n",
    "# 2) CHOOSE THE SIGNIFICANCE LEVEL\n",
    "alpha = 0.05\n",
    "print(\"The significance level is: \", alpha)\n",
    "\n",
    "# 3) SAMPLE\n",
    "corr_1job_abroad = pd.crosstab(survey[12], survey[14], dropna=False)\n",
    "\n",
    "# 4) and 5) COMPUTE THE STATISTICS and COMPUTE THE p-value:\n",
    "st.chi2_contingency(corr_1job_abroad) \n"
   ]
  },
  {
   "cell_type": "code",
   "execution_count": 13,
   "metadata": {},
   "outputs": [
    {
     "data": {
      "text/plain": [
       "False"
      ]
     },
     "execution_count": 13,
     "metadata": {},
     "output_type": "execute_result"
    }
   ],
   "source": [
    "# 6) DECISION\n",
    "\n",
    "p_value = 0.25844680548158955\n",
    "p_value < alpha\n",
    "\n",
    "# I do not reject the H0. It seems like with 0.05 of confidence level that people satisfied with this 1st job [12] can or can't look to work abroad [14]."
   ]
  },
  {
   "cell_type": "code",
   "execution_count": 14,
   "metadata": {},
   "outputs": [
    {
     "name": "stderr",
     "output_type": "stream",
     "text": [
      "C:\\Users\\inesa\\AppData\\Local\\Temp\\ipykernel_9124\\1620908967.py:8: SettingWithCopyWarning: \n",
      "A value is trying to be set on a copy of a slice from a DataFrame\n",
      "\n",
      "See the caveats in the documentation: https://pandas.pydata.org/pandas-docs/stable/user_guide/indexing.html#returning-a-view-versus-a-copy\n",
      "  survey[14_2][i] = \"Yes\"\n",
      "C:\\Users\\inesa\\AppData\\Local\\Temp\\ipykernel_9124\\1620908967.py:6: SettingWithCopyWarning: \n",
      "A value is trying to be set on a copy of a slice from a DataFrame\n",
      "\n",
      "See the caveats in the documentation: https://pandas.pydata.org/pandas-docs/stable/user_guide/indexing.html#returning-a-view-versus-a-copy\n",
      "  survey[14_2][i] = \"No\"\n"
     ]
    }
   ],
   "source": [
    "# NOW WITH 'YES's TOGETHER\n",
    "\n",
    "survey[14_2]=survey[14]\n",
    "for i in range(len(survey[14])):\n",
    "    if survey[14_2][i]==\"No.\":\n",
    "        survey[14_2][i] = \"No\"\n",
    "    else:\n",
    "        survey[14_2][i] = \"Yes\""
   ]
  },
  {
   "cell_type": "code",
   "execution_count": 15,
   "metadata": {},
   "outputs": [
    {
     "name": "stdout",
     "output_type": "stream",
     "text": [
      "The significance level is:  0.05\n"
     ]
    },
    {
     "data": {
      "text/html": [
       "<div>\n",
       "<style scoped>\n",
       "    .dataframe tbody tr th:only-of-type {\n",
       "        vertical-align: middle;\n",
       "    }\n",
       "\n",
       "    .dataframe tbody tr th {\n",
       "        vertical-align: top;\n",
       "    }\n",
       "\n",
       "    .dataframe thead th {\n",
       "        text-align: right;\n",
       "    }\n",
       "</style>\n",
       "<table border=\"1\" class=\"dataframe\">\n",
       "  <thead>\n",
       "    <tr style=\"text-align: right;\">\n",
       "      <th>142</th>\n",
       "      <th>No</th>\n",
       "      <th>Yes</th>\n",
       "    </tr>\n",
       "    <tr>\n",
       "      <th>12</th>\n",
       "      <th></th>\n",
       "      <th></th>\n",
       "    </tr>\n",
       "  </thead>\n",
       "  <tbody>\n",
       "    <tr>\n",
       "      <th>No</th>\n",
       "      <td>5</td>\n",
       "      <td>18</td>\n",
       "    </tr>\n",
       "    <tr>\n",
       "      <th>Yes</th>\n",
       "      <td>8</td>\n",
       "      <td>10</td>\n",
       "    </tr>\n",
       "  </tbody>\n",
       "</table>\n",
       "</div>"
      ],
      "text/plain": [
       "142  No  Yes\n",
       "12          \n",
       "No    5   18\n",
       "Yes   8   10"
      ]
     },
     "execution_count": 15,
     "metadata": {},
     "output_type": "execute_result"
    }
   ],
   "source": [
    "# 1) SET THE HYPOTHESIS\n",
    "# H0: people satisfied with 1st job [12] INDEPENDENT looking work abroad [14] \n",
    "# H1: people satisfied with 1st job [12] DEPENDENT looking work abroad [14] \n",
    "\n",
    "\n",
    "# 2) CHOOSE THE SIGNIFICANCE LEVEL\n",
    "alpha = 0.05\n",
    "print(\"The significance level is: \", alpha)\n",
    "\n",
    "# 3) SAMPLE\n",
    "corr_1job_abroad = pd.crosstab(survey[12], survey[14_2], dropna=False)\n",
    "corr_1job_abroad"
   ]
  },
  {
   "cell_type": "code",
   "execution_count": 16,
   "metadata": {},
   "outputs": [
    {
     "data": {
      "text/plain": [
       "(1.4697951505016726,\n",
       " 0.22537801711617175,\n",
       " 1,\n",
       " array([[ 7.29268293, 15.70731707],\n",
       "        [ 5.70731707, 12.29268293]]))"
      ]
     },
     "execution_count": 16,
     "metadata": {},
     "output_type": "execute_result"
    }
   ],
   "source": [
    "# 4) and 5) COMPUTE THE STATISTICS and COMPUTE THE p-value:\n",
    "st.chi2_contingency(corr_1job_abroad) "
   ]
  },
  {
   "cell_type": "code",
   "execution_count": 17,
   "metadata": {},
   "outputs": [
    {
     "data": {
      "text/plain": [
       "False"
      ]
     },
     "execution_count": 17,
     "metadata": {},
     "output_type": "execute_result"
    }
   ],
   "source": [
    "# 6) DECISION\n",
    "\n",
    "p_value = 0.22537801711617175\n",
    "p_value < alpha\n",
    "\n",
    "# (p_value < alpha --> False) \n",
    "# I do not reject the H0. It seems like with 0.05 of confidence level that people satisfied with this 1st job [12] can or can't look to work abroad [14]."
   ]
  },
  {
   "cell_type": "markdown",
   "metadata": {},
   "source": [
    "# 2 Hypotese"
   ]
  },
  {
   "cell_type": "code",
   "execution_count": 76,
   "metadata": {},
   "outputs": [
    {
     "name": "stderr",
     "output_type": "stream",
     "text": [
      "C:\\Users\\inesa\\AppData\\Local\\Temp\\ipykernel_9124\\4178542563.py:5: SettingWithCopyWarning: \n",
      "A value is trying to be set on a copy of a slice from a DataFrame\n",
      "\n",
      "See the caveats in the documentation: https://pandas.pydata.org/pandas-docs/stable/user_guide/indexing.html#returning-a-view-versus-a-copy\n",
      "  survey[\"14_abroad\"][i] = \"Work_Abroad\"\n",
      "C:\\Users\\inesa\\AppData\\Local\\Temp\\ipykernel_9124\\4178542563.py:7: SettingWithCopyWarning: \n",
      "A value is trying to be set on a copy of a slice from a DataFrame\n",
      "\n",
      "See the caveats in the documentation: https://pandas.pydata.org/pandas-docs/stable/user_guide/indexing.html#returning-a-view-versus-a-copy\n",
      "  survey[\"14_abroad\"][i] = \"No\"\n"
     ]
    }
   ],
   "source": [
    "# People who went to work abroad\n",
    "survey['14_abroad']=survey[14]\n",
    "for i in range(len(survey[14])):\n",
    "    if \"another country\" in survey[\"14_abroad\"][i]:\n",
    "        survey[\"14_abroad\"][i] = \"Work_Abroad\"\n",
    "    else:\n",
    "        survey[\"14_abroad\"][i] = \"No\""
   ]
  },
  {
   "cell_type": "code",
   "execution_count": 77,
   "metadata": {},
   "outputs": [
    {
     "name": "stdout",
     "output_type": "stream",
     "text": [
      "The significance level is:  0.05\n"
     ]
    },
    {
     "data": {
      "text/html": [
       "<div>\n",
       "<style scoped>\n",
       "    .dataframe tbody tr th:only-of-type {\n",
       "        vertical-align: middle;\n",
       "    }\n",
       "\n",
       "    .dataframe tbody tr th {\n",
       "        vertical-align: top;\n",
       "    }\n",
       "\n",
       "    .dataframe thead th {\n",
       "        text-align: right;\n",
       "    }\n",
       "</style>\n",
       "<table border=\"1\" class=\"dataframe\">\n",
       "  <thead>\n",
       "    <tr style=\"text-align: right;\">\n",
       "      <th>14_abroad</th>\n",
       "      <th>No</th>\n",
       "      <th>Work_Abroad</th>\n",
       "    </tr>\n",
       "    <tr>\n",
       "      <th>15</th>\n",
       "      <th></th>\n",
       "      <th></th>\n",
       "    </tr>\n",
       "  </thead>\n",
       "  <tbody>\n",
       "    <tr>\n",
       "      <th>No</th>\n",
       "      <td>12</td>\n",
       "      <td>3</td>\n",
       "    </tr>\n",
       "    <tr>\n",
       "      <th>Yes</th>\n",
       "      <td>16</td>\n",
       "      <td>10</td>\n",
       "    </tr>\n",
       "  </tbody>\n",
       "</table>\n",
       "</div>"
      ],
      "text/plain": [
       "14_abroad  No  Work_Abroad\n",
       "15                        \n",
       "No         12            3\n",
       "Yes        16           10"
      ]
     },
     "execution_count": 77,
     "metadata": {},
     "output_type": "execute_result"
    }
   ],
   "source": [
    "# 1) SET THE HYPOTHESIS\n",
    "# H0: career evolution satisfection [15] INDEPENDENT working abroad [14_abroad]\n",
    "# H1: career evolution satisfection [15] DEPENDENT working abroad [14_abroad]\n",
    "\n",
    "# 2) CHOOSE THE SIGNIFICANCE LEVEL\n",
    "alpha = 0.05\n",
    "print(\"The significance level is: \", alpha)\n",
    "\n",
    "# 3) SAMPLE\n",
    "corr_sat_abroad = pd.crosstab(survey[15], survey[\"14_abroad\"], dropna=False)\n",
    "corr_sat_abroad"
   ]
  },
  {
   "cell_type": "code",
   "execution_count": 78,
   "metadata": {},
   "outputs": [
    {
     "data": {
      "text/plain": [
       "(0.7660062693716541,\n",
       " 0.3814553874840535,\n",
       " 1,\n",
       " array([[10.24390244,  4.75609756],\n",
       "        [17.75609756,  8.24390244]]))"
      ]
     },
     "execution_count": 78,
     "metadata": {},
     "output_type": "execute_result"
    }
   ],
   "source": [
    "# 4) and 5) COMPUTE THE STATISTICS and COMPUTE THE p-value:\n",
    "st.chi2_contingency(corr_sat_abroad) "
   ]
  },
  {
   "cell_type": "code",
   "execution_count": 21,
   "metadata": {},
   "outputs": [
    {
     "data": {
      "text/plain": [
       "False"
      ]
     },
     "execution_count": 21,
     "metadata": {},
     "output_type": "execute_result"
    }
   ],
   "source": [
    "# 6) DECISION\n",
    "\n",
    "p_value = 0.3814553874840535\n",
    "p_value < alpha\n",
    "\n",
    "# (p_value < alpha --> False) \n",
    "# I do not reject the H0. It seems like with 0.05 of confidence level that\n",
    "        # people satisfisfaction with the evolution of the career doens't affect if they search for work abroad"
   ]
  },
  {
   "cell_type": "code",
   "execution_count": 22,
   "metadata": {},
   "outputs": [
    {
     "data": {
      "text/html": [
       "<div>\n",
       "<style scoped>\n",
       "    .dataframe tbody tr th:only-of-type {\n",
       "        vertical-align: middle;\n",
       "    }\n",
       "\n",
       "    .dataframe tbody tr th {\n",
       "        vertical-align: top;\n",
       "    }\n",
       "\n",
       "    .dataframe thead th {\n",
       "        text-align: right;\n",
       "    }\n",
       "</style>\n",
       "<table border=\"1\" class=\"dataframe\">\n",
       "  <thead>\n",
       "    <tr style=\"text-align: right;\">\n",
       "      <th></th>\n",
       "      <th>Timestamp</th>\n",
       "      <th>1</th>\n",
       "      <th>2</th>\n",
       "      <th>3</th>\n",
       "      <th>4</th>\n",
       "      <th>5</th>\n",
       "      <th>6</th>\n",
       "      <th>7</th>\n",
       "      <th>8</th>\n",
       "      <th>9</th>\n",
       "      <th>...</th>\n",
       "      <th>I can/could not have a good life-work balance</th>\n",
       "      <th>I am/was not paid enough</th>\n",
       "      <th>I do/did not enjoy my job</th>\n",
       "      <th>I do/did not have any guidance</th>\n",
       "      <th>I do/did not feel great prospects of growing inside this company</th>\n",
       "      <th>Other_negative_answer</th>\n",
       "      <th>last_graduation_year</th>\n",
       "      <th>experience_aft_gra</th>\n",
       "      <th>142</th>\n",
       "      <th>14_abroad</th>\n",
       "    </tr>\n",
       "  </thead>\n",
       "  <tbody>\n",
       "    <tr>\n",
       "      <th>19</th>\n",
       "      <td>2022-11-08 14:48:14.578</td>\n",
       "      <td>Female</td>\n",
       "      <td>25</td>\n",
       "      <td>Business, management and administration</td>\n",
       "      <td>South America</td>\n",
       "      <td>Colombia</td>\n",
       "      <td>Yes</td>\n",
       "      <td>2020</td>\n",
       "      <td>Yes</td>\n",
       "      <td>Yes</td>\n",
       "      <td>...</td>\n",
       "      <td>0</td>\n",
       "      <td>1</td>\n",
       "      <td>0</td>\n",
       "      <td>0</td>\n",
       "      <td>0</td>\n",
       "      <td>0</td>\n",
       "      <td>2020</td>\n",
       "      <td>2</td>\n",
       "      <td>Yes</td>\n",
       "      <td>No</td>\n",
       "    </tr>\n",
       "  </tbody>\n",
       "</table>\n",
       "<p>1 rows × 42 columns</p>\n",
       "</div>"
      ],
      "text/plain": [
       "                 Timestamp       1   2  \\\n",
       "19 2022-11-08 14:48:14.578  Female  25   \n",
       "\n",
       "                                          3              4         5    6  \\\n",
       "19  Business, management and administration  South America  Colombia  Yes   \n",
       "\n",
       "       7    8    9  ...  I can/could not have a good life-work balance  \\\n",
       "19  2020  Yes  Yes  ...                                              0   \n",
       "\n",
       "   I am/was not paid enough I do/did not enjoy my job  \\\n",
       "19                        1                         0   \n",
       "\n",
       "   I do/did not have any guidance  \\\n",
       "19                              0   \n",
       "\n",
       "   I do/did not feel great prospects of growing inside this company  \\\n",
       "19                                                  0                 \n",
       "\n",
       "   Other_negative_answer last_graduation_year experience_aft_gra  142  \\\n",
       "19                     0                 2020                  2  Yes   \n",
       "\n",
       "   14_abroad  \n",
       "19        No  \n",
       "\n",
       "[1 rows x 42 columns]"
      ]
     },
     "execution_count": 22,
     "metadata": {},
     "output_type": "execute_result"
    }
   ],
   "source": [
    "#correction\n",
    "survey[survey[5] == 'Colombia']"
   ]
  },
  {
   "cell_type": "code",
   "execution_count": 23,
   "metadata": {},
   "outputs": [],
   "source": [
    "survey.loc[19,14] = \"Yes. And I went to work in another country.\""
   ]
  },
  {
   "cell_type": "markdown",
   "metadata": {},
   "source": [
    "# 3 Hypotese"
   ]
  },
  {
   "cell_type": "code",
   "execution_count": 24,
   "metadata": {},
   "outputs": [
    {
     "name": "stdout",
     "output_type": "stream",
     "text": [
      "15. Are you satisfied with the evolution of your career? \n",
      "18. Do you feel that your University studies matches with what you aspirated?\n"
     ]
    }
   ],
   "source": [
    "print(col_names1[15])\n",
    "print(col_names1[18])"
   ]
  },
  {
   "cell_type": "code",
   "execution_count": 25,
   "metadata": {},
   "outputs": [
    {
     "data": {
      "text/plain": [
       "15   18 \n",
       "Yes  No     18\n",
       "No   No     10\n",
       "Yes  Yes     8\n",
       "No   Yes     5\n",
       "dtype: int64"
      ]
     },
     "execution_count": 25,
     "metadata": {},
     "output_type": "execute_result"
    }
   ],
   "source": [
    "survey[[15,18]].value_counts()"
   ]
  },
  {
   "cell_type": "code",
   "execution_count": 26,
   "metadata": {},
   "outputs": [
    {
     "name": "stdout",
     "output_type": "stream",
     "text": [
      "The significance level is:  0.05\n"
     ]
    },
    {
     "data": {
      "text/html": [
       "<div>\n",
       "<style scoped>\n",
       "    .dataframe tbody tr th:only-of-type {\n",
       "        vertical-align: middle;\n",
       "    }\n",
       "\n",
       "    .dataframe tbody tr th {\n",
       "        vertical-align: top;\n",
       "    }\n",
       "\n",
       "    .dataframe thead th {\n",
       "        text-align: right;\n",
       "    }\n",
       "</style>\n",
       "<table border=\"1\" class=\"dataframe\">\n",
       "  <thead>\n",
       "    <tr style=\"text-align: right;\">\n",
       "      <th>18</th>\n",
       "      <th>No</th>\n",
       "      <th>Yes</th>\n",
       "    </tr>\n",
       "    <tr>\n",
       "      <th>15</th>\n",
       "      <th></th>\n",
       "      <th></th>\n",
       "    </tr>\n",
       "  </thead>\n",
       "  <tbody>\n",
       "    <tr>\n",
       "      <th>No</th>\n",
       "      <td>10</td>\n",
       "      <td>5</td>\n",
       "    </tr>\n",
       "    <tr>\n",
       "      <th>Yes</th>\n",
       "      <td>18</td>\n",
       "      <td>8</td>\n",
       "    </tr>\n",
       "  </tbody>\n",
       "</table>\n",
       "</div>"
      ],
      "text/plain": [
       "18   No  Yes\n",
       "15          \n",
       "No   10    5\n",
       "Yes  18    8"
      ]
     },
     "execution_count": 26,
     "metadata": {},
     "output_type": "execute_result"
    }
   ],
   "source": [
    "# 1) SET THE HYPOTHESIS\n",
    "# H0: career evolution satisfection INDEPENDENT aspirations [18]\n",
    "# H1: career evolution satisfection INDEPENDENT aspirations [18]\n",
    "\n",
    "# 2) CHOOSE THE SIGNIFICANCE LEVEL\n",
    "alpha = 0.05\n",
    "print(\"The significance level is: \", alpha)\n",
    "\n",
    "# 3) SAMPLE\n",
    "corr_career_aspirations = pd.crosstab(survey[15], survey[18], dropna=False)\n",
    "corr_career_aspirations"
   ]
  },
  {
   "cell_type": "code",
   "execution_count": 27,
   "metadata": {},
   "outputs": [
    {
     "data": {
      "text/plain": [
       "(0.0,\n",
       " 1.0,\n",
       " 1,\n",
       " array([[10.24390244,  4.75609756],\n",
       "        [17.75609756,  8.24390244]]))"
      ]
     },
     "execution_count": 27,
     "metadata": {},
     "output_type": "execute_result"
    }
   ],
   "source": [
    "# 4) and 5) COMPUTE THE STATISTICS and COMPUTE THE p-value:\n",
    "st.chi2_contingency(corr_career_aspirations) "
   ]
  },
  {
   "cell_type": "code",
   "execution_count": 28,
   "metadata": {},
   "outputs": [
    {
     "data": {
      "text/plain": [
       "False"
      ]
     },
     "execution_count": 28,
     "metadata": {},
     "output_type": "execute_result"
    }
   ],
   "source": [
    "# 6) DECISION\n",
    "\n",
    "p_value = 1.0\n",
    "p_value < alpha\n",
    "\n",
    "# (p_value < alpha --> False) \n",
    "# I do not reject the H0. It seems like with 0.05 of confidence level that\n",
    "        # the career evolution satisfection isn't affected with what people aspirated in life\n",
    "        "
   ]
  },
  {
   "cell_type": "markdown",
   "metadata": {},
   "source": [
    "# 4 Hypothese"
   ]
  },
  {
   "cell_type": "code",
   "execution_count": 29,
   "metadata": {},
   "outputs": [
    {
     "name": "stdout",
     "output_type": "stream",
     "text": [
      "15. Are you satisfied with the evolution of your career? \n",
      "19. Did you take another specialization course/MBA/Phd/Bootcamp?\n"
     ]
    }
   ],
   "source": [
    "print(col_names1[15])\n",
    "print(col_names1[19])"
   ]
  },
  {
   "cell_type": "code",
   "execution_count": 30,
   "metadata": {},
   "outputs": [
    {
     "data": {
      "text/plain": [
       "15   19                                                 \n",
       "Yes  Yes. The specialization was/is in a different area.    15\n",
       "     No                                                      8\n",
       "No   No                                                      7\n",
       "     Yes. The specialization was/is in the same area.        5\n",
       "     Yes. The specialization was/is in a different area.     3\n",
       "Yes  Yes. The specialization was/is in the same area.        3\n",
       "dtype: int64"
      ]
     },
     "execution_count": 30,
     "metadata": {},
     "output_type": "execute_result"
    }
   ],
   "source": [
    "survey[[15,19]].value_counts()"
   ]
  },
  {
   "cell_type": "code",
   "execution_count": 31,
   "metadata": {},
   "outputs": [
    {
     "name": "stdout",
     "output_type": "stream",
     "text": [
      "The significance level is:  0.05\n"
     ]
    },
    {
     "data": {
      "text/html": [
       "<div>\n",
       "<style scoped>\n",
       "    .dataframe tbody tr th:only-of-type {\n",
       "        vertical-align: middle;\n",
       "    }\n",
       "\n",
       "    .dataframe tbody tr th {\n",
       "        vertical-align: top;\n",
       "    }\n",
       "\n",
       "    .dataframe thead th {\n",
       "        text-align: right;\n",
       "    }\n",
       "</style>\n",
       "<table border=\"1\" class=\"dataframe\">\n",
       "  <thead>\n",
       "    <tr style=\"text-align: right;\">\n",
       "      <th>19</th>\n",
       "      <th>No</th>\n",
       "      <th>Yes. The specialization was/is in a different area.</th>\n",
       "      <th>Yes. The specialization was/is in the same area.</th>\n",
       "    </tr>\n",
       "    <tr>\n",
       "      <th>15</th>\n",
       "      <th></th>\n",
       "      <th></th>\n",
       "      <th></th>\n",
       "    </tr>\n",
       "  </thead>\n",
       "  <tbody>\n",
       "    <tr>\n",
       "      <th>No</th>\n",
       "      <td>7</td>\n",
       "      <td>3</td>\n",
       "      <td>5</td>\n",
       "    </tr>\n",
       "    <tr>\n",
       "      <th>Yes</th>\n",
       "      <td>8</td>\n",
       "      <td>15</td>\n",
       "      <td>3</td>\n",
       "    </tr>\n",
       "  </tbody>\n",
       "</table>\n",
       "</div>"
      ],
      "text/plain": [
       "19   No  Yes. The specialization was/is in a different area.  \\\n",
       "15                                                             \n",
       "No    7                                                  3     \n",
       "Yes   8                                                 15     \n",
       "\n",
       "19   Yes. The specialization was/is in the same area.  \n",
       "15                                                     \n",
       "No                                                  5  \n",
       "Yes                                                 3  "
      ]
     },
     "execution_count": 31,
     "metadata": {},
     "output_type": "execute_result"
    }
   ],
   "source": [
    "# 1) SET THE HYPOTHESIS\n",
    "# H0: career evolution satisfection [15] INDEPENDENT taking another course/MBA/Phd/Bootcamp [19]\n",
    "# H1: career evolution satisfection [15] DEPENDENT taking another course/MBA/Phd/Bootcamp [19]\n",
    "\n",
    "# 2) CHOOSE THE SIGNIFICANCE LEVEL\n",
    "alpha = 0.05\n",
    "print(\"The significance level is: \", alpha)\n",
    "\n",
    "# 3) SAMPLE\n",
    "corr_career_bootcamp = pd.crosstab(survey[15], survey[19], dropna=False)\n",
    "corr_career_bootcamp"
   ]
  },
  {
   "cell_type": "code",
   "execution_count": 32,
   "metadata": {},
   "outputs": [
    {
     "data": {
      "text/plain": [
       "(6.051004273504273,\n",
       " 0.04853344472403861,\n",
       " 2,\n",
       " array([[ 5.48780488,  6.58536585,  2.92682927],\n",
       "        [ 9.51219512, 11.41463415,  5.07317073]]))"
      ]
     },
     "execution_count": 32,
     "metadata": {},
     "output_type": "execute_result"
    }
   ],
   "source": [
    "# 4) and 5) COMPUTE THE STATISTICS and COMPUTE THE p-value:\n",
    "st.chi2_contingency(corr_career_bootcamp) "
   ]
  },
  {
   "cell_type": "code",
   "execution_count": 33,
   "metadata": {},
   "outputs": [
    {
     "data": {
      "text/plain": [
       "True"
      ]
     },
     "execution_count": 33,
     "metadata": {},
     "output_type": "execute_result"
    }
   ],
   "source": [
    "# 6) DECISION\n",
    "\n",
    "p_value = 0.04853344472403861\n",
    "p_value < alpha\n",
    "\n",
    "# (p_value < alpha --> TRUE) \n",
    "# I REJECT HO. It seems like with 0.05 of confidence level that\n",
    "        # the career evolution satisfection have some correlation with the fact that people take another course/MBA/Phd/Bootcamp"
   ]
  },
  {
   "cell_type": "markdown",
   "metadata": {},
   "source": [
    "# 5 Hypothese"
   ]
  },
  {
   "cell_type": "code",
   "execution_count": 34,
   "metadata": {},
   "outputs": [
    {
     "name": "stdout",
     "output_type": "stream",
     "text": [
      "15. Are you satisfied with the evolution of your career? \n",
      "21. Do you feel that you need/had to change career to have more work opportunities? \n"
     ]
    }
   ],
   "source": [
    "print(col_names1[15])\n",
    "print(col_names1[21])"
   ]
  },
  {
   "cell_type": "code",
   "execution_count": 35,
   "metadata": {},
   "outputs": [
    {
     "name": "stdout",
     "output_type": "stream",
     "text": [
      "The significance level is:  0.05\n"
     ]
    },
    {
     "data": {
      "text/html": [
       "<div>\n",
       "<style scoped>\n",
       "    .dataframe tbody tr th:only-of-type {\n",
       "        vertical-align: middle;\n",
       "    }\n",
       "\n",
       "    .dataframe tbody tr th {\n",
       "        vertical-align: top;\n",
       "    }\n",
       "\n",
       "    .dataframe thead th {\n",
       "        text-align: right;\n",
       "    }\n",
       "</style>\n",
       "<table border=\"1\" class=\"dataframe\">\n",
       "  <thead>\n",
       "    <tr style=\"text-align: right;\">\n",
       "      <th>21</th>\n",
       "      <th>No</th>\n",
       "      <th>Not necessarily</th>\n",
       "      <th>Yes</th>\n",
       "    </tr>\n",
       "    <tr>\n",
       "      <th>15</th>\n",
       "      <th></th>\n",
       "      <th></th>\n",
       "      <th></th>\n",
       "    </tr>\n",
       "  </thead>\n",
       "  <tbody>\n",
       "    <tr>\n",
       "      <th>No</th>\n",
       "      <td>2</td>\n",
       "      <td>3</td>\n",
       "      <td>10</td>\n",
       "    </tr>\n",
       "    <tr>\n",
       "      <th>Yes</th>\n",
       "      <td>6</td>\n",
       "      <td>7</td>\n",
       "      <td>13</td>\n",
       "    </tr>\n",
       "  </tbody>\n",
       "</table>\n",
       "</div>"
      ],
      "text/plain": [
       "21   No  Not necessarily  Yes\n",
       "15                           \n",
       "No    2                3   10\n",
       "Yes   6                7   13"
      ]
     },
     "execution_count": 35,
     "metadata": {},
     "output_type": "execute_result"
    }
   ],
   "source": [
    "# 1) SET THE HYPOTHESIS\n",
    "# H0: career evolution satisfection [15] INDEPENDENT changing career for more opportunities [21]\n",
    "# H1: career evolution satisfection [15] DEPENDENT changing career for more opportunities [21]\n",
    "\n",
    "# 2) CHOOSE THE SIGNIFICANCE LEVEL\n",
    "alpha = 0.05\n",
    "print(\"The significance level is: \", alpha)\n",
    "\n",
    "# 3) SAMPLE\n",
    "corr_career_opportunities = pd.crosstab(survey[15], survey[21], dropna=False)\n",
    "corr_career_opportunities"
   ]
  },
  {
   "cell_type": "code",
   "execution_count": 36,
   "metadata": {},
   "outputs": [
    {
     "data": {
      "text/plain": [
       "(1.1207580824972132,\n",
       " 0.5709925930803051,\n",
       " 2,\n",
       " array([[ 2.92682927,  3.65853659,  8.41463415],\n",
       "        [ 5.07317073,  6.34146341, 14.58536585]]))"
      ]
     },
     "execution_count": 36,
     "metadata": {},
     "output_type": "execute_result"
    }
   ],
   "source": [
    "# 4) and 5) COMPUTE THE STATISTICS and COMPUTE THE p-value:\n",
    "st.chi2_contingency(corr_career_opportunities) "
   ]
  },
  {
   "cell_type": "code",
   "execution_count": 37,
   "metadata": {},
   "outputs": [
    {
     "data": {
      "text/plain": [
       "False"
      ]
     },
     "execution_count": 37,
     "metadata": {},
     "output_type": "execute_result"
    }
   ],
   "source": [
    "# 6) DECISION\n",
    "\n",
    "p_value =  0.5709925930803051\n",
    "p_value < alpha\n",
    "\n",
    "# (p_value < alpha --> False) \n",
    "# I do not reject the H0. It seems like with 0.05 of confidence level that\n",
    "        # career evolution satisfection is independent of changing the career"
   ]
  },
  {
   "cell_type": "code",
   "execution_count": 38,
   "metadata": {},
   "outputs": [
    {
     "name": "stderr",
     "output_type": "stream",
     "text": [
      "C:\\Users\\inesa\\AppData\\Local\\Temp\\ipykernel_9124\\2474946180.py:6: SettingWithCopyWarning: \n",
      "A value is trying to be set on a copy of a slice from a DataFrame\n",
      "\n",
      "See the caveats in the documentation: https://pandas.pydata.org/pandas-docs/stable/user_guide/indexing.html#returning-a-view-versus-a-copy\n",
      "  survey[\"21_agg_no\"][i] = \"No\"\n"
     ]
    }
   ],
   "source": [
    "# And if aggregate the 'No' with the 'Not necessarily'\n",
    "\n",
    "survey['21_agg_no']=survey[21]\n",
    "for i in range(len(survey[21])):\n",
    "    if \"necessarily\" in survey[\"21_agg_no\"][i]:\n",
    "        survey[\"21_agg_no\"][i] = \"No\"\n",
    "    else:\n",
    "        pass"
   ]
  },
  {
   "cell_type": "code",
   "execution_count": 39,
   "metadata": {},
   "outputs": [
    {
     "data": {
      "text/html": [
       "<div>\n",
       "<style scoped>\n",
       "    .dataframe tbody tr th:only-of-type {\n",
       "        vertical-align: middle;\n",
       "    }\n",
       "\n",
       "    .dataframe tbody tr th {\n",
       "        vertical-align: top;\n",
       "    }\n",
       "\n",
       "    .dataframe thead th {\n",
       "        text-align: right;\n",
       "    }\n",
       "</style>\n",
       "<table border=\"1\" class=\"dataframe\">\n",
       "  <thead>\n",
       "    <tr style=\"text-align: right;\">\n",
       "      <th>21_agg_no</th>\n",
       "      <th>No</th>\n",
       "      <th>Yes</th>\n",
       "    </tr>\n",
       "    <tr>\n",
       "      <th>15</th>\n",
       "      <th></th>\n",
       "      <th></th>\n",
       "    </tr>\n",
       "  </thead>\n",
       "  <tbody>\n",
       "    <tr>\n",
       "      <th>No</th>\n",
       "      <td>5</td>\n",
       "      <td>10</td>\n",
       "    </tr>\n",
       "    <tr>\n",
       "      <th>Yes</th>\n",
       "      <td>13</td>\n",
       "      <td>13</td>\n",
       "    </tr>\n",
       "  </tbody>\n",
       "</table>\n",
       "</div>"
      ],
      "text/plain": [
       "21_agg_no  No  Yes\n",
       "15                \n",
       "No          5   10\n",
       "Yes        13   13"
      ]
     },
     "execution_count": 39,
     "metadata": {},
     "output_type": "execute_result"
    }
   ],
   "source": [
    "corr_career_opportunities = pd.crosstab(survey[15], survey[\"21_agg_no\"], dropna=False)\n",
    "corr_career_opportunities"
   ]
  },
  {
   "cell_type": "code",
   "execution_count": 40,
   "metadata": {},
   "outputs": [
    {
     "data": {
      "text/plain": [
       "(0.5028505512201167,\n",
       " 0.47825028537849756,\n",
       " 1,\n",
       " array([[ 6.58536585,  8.41463415],\n",
       "        [11.41463415, 14.58536585]]))"
      ]
     },
     "execution_count": 40,
     "metadata": {},
     "output_type": "execute_result"
    }
   ],
   "source": [
    "st.chi2_contingency(corr_career_opportunities) "
   ]
  },
  {
   "cell_type": "code",
   "execution_count": 41,
   "metadata": {},
   "outputs": [
    {
     "data": {
      "text/plain": [
       "False"
      ]
     },
     "execution_count": 41,
     "metadata": {},
     "output_type": "execute_result"
    }
   ],
   "source": [
    "p_value =  0.47825028537849756\n",
    "p_value < alpha\n",
    "\n",
    "# (p_value < alpha --> False) \n",
    "# I do not reject the H0. It seems like with 0.05 of confidence level that\n",
    "        # career evolution satisfection is independent of changing the career"
   ]
  },
  {
   "cell_type": "markdown",
   "metadata": {},
   "source": [
    "# 6 Hypothese"
   ]
  },
  {
   "cell_type": "code",
   "execution_count": 42,
   "metadata": {},
   "outputs": [
    {
     "name": "stdout",
     "output_type": "stream",
     "text": [
      "3. What is the area of your studies at University?\n",
      "19. Did you take another specialization course/MBA/Phd/Bootcamp?\n"
     ]
    }
   ],
   "source": [
    "print(col_names1[3])\n",
    "print(col_names1[19])"
   ]
  },
  {
   "cell_type": "code",
   "execution_count": 43,
   "metadata": {},
   "outputs": [
    {
     "name": "stdout",
     "output_type": "stream",
     "text": [
      "The significance level is:  0.05\n"
     ]
    },
    {
     "data": {
      "text/html": [
       "<div>\n",
       "<style scoped>\n",
       "    .dataframe tbody tr th:only-of-type {\n",
       "        vertical-align: middle;\n",
       "    }\n",
       "\n",
       "    .dataframe tbody tr th {\n",
       "        vertical-align: top;\n",
       "    }\n",
       "\n",
       "    .dataframe thead th {\n",
       "        text-align: right;\n",
       "    }\n",
       "</style>\n",
       "<table border=\"1\" class=\"dataframe\">\n",
       "  <thead>\n",
       "    <tr style=\"text-align: right;\">\n",
       "      <th>19</th>\n",
       "      <th>No</th>\n",
       "      <th>Yes. The specialization was/is in a different area.</th>\n",
       "      <th>Yes. The specialization was/is in the same area.</th>\n",
       "    </tr>\n",
       "    <tr>\n",
       "      <th>3</th>\n",
       "      <th></th>\n",
       "      <th></th>\n",
       "      <th></th>\n",
       "    </tr>\n",
       "  </thead>\n",
       "  <tbody>\n",
       "    <tr>\n",
       "      <th>Architecture,  civil engineering and related areas</th>\n",
       "      <td>0</td>\n",
       "      <td>3</td>\n",
       "      <td>1</td>\n",
       "    </tr>\n",
       "    <tr>\n",
       "      <th>Arts, culture and entertainment</th>\n",
       "      <td>2</td>\n",
       "      <td>2</td>\n",
       "      <td>1</td>\n",
       "    </tr>\n",
       "    <tr>\n",
       "      <th>Business, management and administration</th>\n",
       "      <td>3</td>\n",
       "      <td>4</td>\n",
       "      <td>1</td>\n",
       "    </tr>\n",
       "    <tr>\n",
       "      <th>Communications</th>\n",
       "      <td>1</td>\n",
       "      <td>0</td>\n",
       "      <td>0</td>\n",
       "    </tr>\n",
       "    <tr>\n",
       "      <th>Health and medicine</th>\n",
       "      <td>1</td>\n",
       "      <td>2</td>\n",
       "      <td>1</td>\n",
       "    </tr>\n",
       "    <tr>\n",
       "      <th>IT</th>\n",
       "      <td>1</td>\n",
       "      <td>0</td>\n",
       "      <td>0</td>\n",
       "    </tr>\n",
       "    <tr>\n",
       "      <th>Industry and food industry</th>\n",
       "      <td>1</td>\n",
       "      <td>1</td>\n",
       "      <td>2</td>\n",
       "    </tr>\n",
       "    <tr>\n",
       "      <th>Law and public policy</th>\n",
       "      <td>1</td>\n",
       "      <td>1</td>\n",
       "      <td>0</td>\n",
       "    </tr>\n",
       "    <tr>\n",
       "      <th>Marketing</th>\n",
       "      <td>1</td>\n",
       "      <td>3</td>\n",
       "      <td>0</td>\n",
       "    </tr>\n",
       "    <tr>\n",
       "      <th>Other</th>\n",
       "      <td>2</td>\n",
       "      <td>1</td>\n",
       "      <td>1</td>\n",
       "    </tr>\n",
       "    <tr>\n",
       "      <th>Science, engineering and related areas</th>\n",
       "      <td>2</td>\n",
       "      <td>1</td>\n",
       "      <td>1</td>\n",
       "    </tr>\n",
       "  </tbody>\n",
       "</table>\n",
       "</div>"
      ],
      "text/plain": [
       "19                                                  No  \\\n",
       "3                                                        \n",
       "Architecture,  civil engineering and related areas   0   \n",
       "Arts, culture and entertainment                      2   \n",
       "Business, management and administration              3   \n",
       "Communications                                       1   \n",
       "Health and medicine                                  1   \n",
       "IT                                                   1   \n",
       "Industry and food industry                           1   \n",
       "Law and public policy                                1   \n",
       "Marketing                                            1   \n",
       "Other                                                2   \n",
       "Science, engineering and related areas               2   \n",
       "\n",
       "19                                                  Yes. The specialization was/is in a different area.  \\\n",
       "3                                                                                                         \n",
       "Architecture,  civil engineering and related areas                                                  3     \n",
       "Arts, culture and entertainment                                                                     2     \n",
       "Business, management and administration                                                             4     \n",
       "Communications                                                                                      0     \n",
       "Health and medicine                                                                                 2     \n",
       "IT                                                                                                  0     \n",
       "Industry and food industry                                                                          1     \n",
       "Law and public policy                                                                               1     \n",
       "Marketing                                                                                           3     \n",
       "Other                                                                                               1     \n",
       "Science, engineering and related areas                                                              1     \n",
       "\n",
       "19                                                  Yes. The specialization was/is in the same area.  \n",
       "3                                                                                                     \n",
       "Architecture,  civil engineering and related areas                                                 1  \n",
       "Arts, culture and entertainment                                                                    1  \n",
       "Business, management and administration                                                            1  \n",
       "Communications                                                                                     0  \n",
       "Health and medicine                                                                                1  \n",
       "IT                                                                                                 0  \n",
       "Industry and food industry                                                                         2  \n",
       "Law and public policy                                                                              0  \n",
       "Marketing                                                                                          0  \n",
       "Other                                                                                              1  \n",
       "Science, engineering and related areas                                                             1  "
      ]
     },
     "execution_count": 43,
     "metadata": {},
     "output_type": "execute_result"
    }
   ],
   "source": [
    "# 1) SET THE HYPOTHESIS\n",
    "# H0: area of university studies [3] INDEPENDENT taking another course/MBA/Phd/Bootcamp in different area [19]\n",
    "# H1: area of university studies [3] DEPENDENT taking another course/MBA/Phd/Bootcamp in different area [19]\n",
    "\n",
    "# 2) CHOOSE THE SIGNIFICANCE LEVEL\n",
    "alpha = 0.05\n",
    "print(\"The significance level is: \", alpha)\n",
    "\n",
    "# 3) SAMPLE\n",
    "corr_area_bootcamp = pd.crosstab(survey[3], survey[19], dropna=False)\n",
    "corr_area_bootcamp"
   ]
  },
  {
   "cell_type": "code",
   "execution_count": 44,
   "metadata": {},
   "outputs": [
    {
     "data": {
      "text/html": [
       "<div>\n",
       "<style scoped>\n",
       "    .dataframe tbody tr th:only-of-type {\n",
       "        vertical-align: middle;\n",
       "    }\n",
       "\n",
       "    .dataframe tbody tr th {\n",
       "        vertical-align: top;\n",
       "    }\n",
       "\n",
       "    .dataframe thead th {\n",
       "        text-align: right;\n",
       "    }\n",
       "</style>\n",
       "<table border=\"1\" class=\"dataframe\">\n",
       "  <thead>\n",
       "    <tr style=\"text-align: right;\">\n",
       "      <th>19</th>\n",
       "      <th>No</th>\n",
       "      <th>Yes. The specialization was/is in a different area.</th>\n",
       "    </tr>\n",
       "    <tr>\n",
       "      <th>3</th>\n",
       "      <th></th>\n",
       "      <th></th>\n",
       "    </tr>\n",
       "  </thead>\n",
       "  <tbody>\n",
       "    <tr>\n",
       "      <th>Architecture,  civil engineering and related areas</th>\n",
       "      <td>0</td>\n",
       "      <td>3</td>\n",
       "    </tr>\n",
       "    <tr>\n",
       "      <th>Arts, culture and entertainment</th>\n",
       "      <td>2</td>\n",
       "      <td>2</td>\n",
       "    </tr>\n",
       "    <tr>\n",
       "      <th>Business, management and administration</th>\n",
       "      <td>3</td>\n",
       "      <td>4</td>\n",
       "    </tr>\n",
       "    <tr>\n",
       "      <th>Communications</th>\n",
       "      <td>1</td>\n",
       "      <td>0</td>\n",
       "    </tr>\n",
       "    <tr>\n",
       "      <th>Health and medicine</th>\n",
       "      <td>1</td>\n",
       "      <td>2</td>\n",
       "    </tr>\n",
       "    <tr>\n",
       "      <th>IT</th>\n",
       "      <td>1</td>\n",
       "      <td>0</td>\n",
       "    </tr>\n",
       "    <tr>\n",
       "      <th>Industry and food industry</th>\n",
       "      <td>1</td>\n",
       "      <td>1</td>\n",
       "    </tr>\n",
       "    <tr>\n",
       "      <th>Law and public policy</th>\n",
       "      <td>1</td>\n",
       "      <td>1</td>\n",
       "    </tr>\n",
       "    <tr>\n",
       "      <th>Marketing</th>\n",
       "      <td>1</td>\n",
       "      <td>3</td>\n",
       "    </tr>\n",
       "    <tr>\n",
       "      <th>Other</th>\n",
       "      <td>2</td>\n",
       "      <td>1</td>\n",
       "    </tr>\n",
       "    <tr>\n",
       "      <th>Science, engineering and related areas</th>\n",
       "      <td>2</td>\n",
       "      <td>1</td>\n",
       "    </tr>\n",
       "  </tbody>\n",
       "</table>\n",
       "</div>"
      ],
      "text/plain": [
       "19                                                  No  \\\n",
       "3                                                        \n",
       "Architecture,  civil engineering and related areas   0   \n",
       "Arts, culture and entertainment                      2   \n",
       "Business, management and administration              3   \n",
       "Communications                                       1   \n",
       "Health and medicine                                  1   \n",
       "IT                                                   1   \n",
       "Industry and food industry                           1   \n",
       "Law and public policy                                1   \n",
       "Marketing                                            1   \n",
       "Other                                                2   \n",
       "Science, engineering and related areas               2   \n",
       "\n",
       "19                                                  Yes. The specialization was/is in a different area.  \n",
       "3                                                                                                        \n",
       "Architecture,  civil engineering and related areas                                                  3    \n",
       "Arts, culture and entertainment                                                                     2    \n",
       "Business, management and administration                                                             4    \n",
       "Communications                                                                                      0    \n",
       "Health and medicine                                                                                 2    \n",
       "IT                                                                                                  0    \n",
       "Industry and food industry                                                                          1    \n",
       "Law and public policy                                                                               1    \n",
       "Marketing                                                                                           3    \n",
       "Other                                                                                               1    \n",
       "Science, engineering and related areas                                                              1    "
      ]
     },
     "execution_count": 44,
     "metadata": {},
     "output_type": "execute_result"
    }
   ],
   "source": [
    "corr_dif_area_bootcamp = (corr_area_bootcamp.reset_index().iloc[:,:-1]).set_index(3)\n",
    "corr_dif_area_bootcamp"
   ]
  },
  {
   "cell_type": "code",
   "execution_count": 45,
   "metadata": {},
   "outputs": [
    {
     "data": {
      "text/plain": [
       "(6.927380952380951,\n",
       " 0.7322823952105314,\n",
       " 10,\n",
       " array([[1.36363636, 1.63636364],\n",
       "        [1.81818182, 2.18181818],\n",
       "        [3.18181818, 3.81818182],\n",
       "        [0.45454545, 0.54545455],\n",
       "        [1.36363636, 1.63636364],\n",
       "        [0.45454545, 0.54545455],\n",
       "        [0.90909091, 1.09090909],\n",
       "        [0.90909091, 1.09090909],\n",
       "        [1.81818182, 2.18181818],\n",
       "        [1.36363636, 1.63636364],\n",
       "        [1.36363636, 1.63636364]]))"
      ]
     },
     "execution_count": 45,
     "metadata": {},
     "output_type": "execute_result"
    }
   ],
   "source": [
    "# 4) and 5) COMPUTE THE STATISTICS and COMPUTE THE p-value:\n",
    "st.chi2_contingency(corr_dif_area_bootcamp) "
   ]
  },
  {
   "cell_type": "code",
   "execution_count": 46,
   "metadata": {},
   "outputs": [
    {
     "data": {
      "text/plain": [
       "False"
      ]
     },
     "execution_count": 46,
     "metadata": {},
     "output_type": "execute_result"
    }
   ],
   "source": [
    "# 6) DECISION\n",
    "\n",
    "p_value =  0.7322823952105314\n",
    "p_value < alpha\n",
    "\n",
    "# (p_value < alpha --> False) \n",
    "# I do not reject the H0. It seems like with 0.05 of confidence level that\n",
    "        # the area of university studies doens't have influence choosing a different area for another course/MBA/Phd/Bootcamp [19]"
   ]
  },
  {
   "cell_type": "markdown",
   "metadata": {},
   "source": [
    "# 7. Hypothese"
   ]
  },
  {
   "cell_type": "code",
   "execution_count": 47,
   "metadata": {},
   "outputs": [
    {
     "name": "stdout",
     "output_type": "stream",
     "text": [
      "3. What is the area of your studies at University?\n",
      "15. Are you satisfied with the evolution of your career? \n"
     ]
    }
   ],
   "source": [
    "print(col_names1[3])\n",
    "print(col_names1[15])"
   ]
  },
  {
   "cell_type": "code",
   "execution_count": 48,
   "metadata": {},
   "outputs": [
    {
     "name": "stdout",
     "output_type": "stream",
     "text": [
      "The significance level is:  0.05\n"
     ]
    },
    {
     "data": {
      "text/html": [
       "<div>\n",
       "<style scoped>\n",
       "    .dataframe tbody tr th:only-of-type {\n",
       "        vertical-align: middle;\n",
       "    }\n",
       "\n",
       "    .dataframe tbody tr th {\n",
       "        vertical-align: top;\n",
       "    }\n",
       "\n",
       "    .dataframe thead th {\n",
       "        text-align: right;\n",
       "    }\n",
       "</style>\n",
       "<table border=\"1\" class=\"dataframe\">\n",
       "  <thead>\n",
       "    <tr style=\"text-align: right;\">\n",
       "      <th>15</th>\n",
       "      <th>No</th>\n",
       "      <th>Yes</th>\n",
       "    </tr>\n",
       "    <tr>\n",
       "      <th>3</th>\n",
       "      <th></th>\n",
       "      <th></th>\n",
       "    </tr>\n",
       "  </thead>\n",
       "  <tbody>\n",
       "    <tr>\n",
       "      <th>Architecture,  civil engineering and related areas</th>\n",
       "      <td>2</td>\n",
       "      <td>2</td>\n",
       "    </tr>\n",
       "    <tr>\n",
       "      <th>Arts, culture and entertainment</th>\n",
       "      <td>2</td>\n",
       "      <td>3</td>\n",
       "    </tr>\n",
       "    <tr>\n",
       "      <th>Business, management and administration</th>\n",
       "      <td>1</td>\n",
       "      <td>7</td>\n",
       "    </tr>\n",
       "    <tr>\n",
       "      <th>Communications</th>\n",
       "      <td>1</td>\n",
       "      <td>0</td>\n",
       "    </tr>\n",
       "    <tr>\n",
       "      <th>Health and medicine</th>\n",
       "      <td>2</td>\n",
       "      <td>2</td>\n",
       "    </tr>\n",
       "    <tr>\n",
       "      <th>IT</th>\n",
       "      <td>1</td>\n",
       "      <td>0</td>\n",
       "    </tr>\n",
       "    <tr>\n",
       "      <th>Industry and food industry</th>\n",
       "      <td>1</td>\n",
       "      <td>3</td>\n",
       "    </tr>\n",
       "    <tr>\n",
       "      <th>Law and public policy</th>\n",
       "      <td>1</td>\n",
       "      <td>1</td>\n",
       "    </tr>\n",
       "    <tr>\n",
       "      <th>Marketing</th>\n",
       "      <td>1</td>\n",
       "      <td>3</td>\n",
       "    </tr>\n",
       "    <tr>\n",
       "      <th>Other</th>\n",
       "      <td>1</td>\n",
       "      <td>3</td>\n",
       "    </tr>\n",
       "    <tr>\n",
       "      <th>Science, engineering and related areas</th>\n",
       "      <td>2</td>\n",
       "      <td>2</td>\n",
       "    </tr>\n",
       "  </tbody>\n",
       "</table>\n",
       "</div>"
      ],
      "text/plain": [
       "15                                                  No  Yes\n",
       "3                                                          \n",
       "Architecture,  civil engineering and related areas   2    2\n",
       "Arts, culture and entertainment                      2    3\n",
       "Business, management and administration              1    7\n",
       "Communications                                       1    0\n",
       "Health and medicine                                  2    2\n",
       "IT                                                   1    0\n",
       "Industry and food industry                           1    3\n",
       "Law and public policy                                1    1\n",
       "Marketing                                            1    3\n",
       "Other                                                1    3\n",
       "Science, engineering and related areas               2    2"
      ]
     },
     "execution_count": 48,
     "metadata": {},
     "output_type": "execute_result"
    }
   ],
   "source": [
    "# 1) SET THE HYPOTHESIS\n",
    "# H0: areas of studie [3] INDEPENDENT career evolution satisfaction [15]\n",
    "# H1: areas of studie [3] DEPENDENT career evolution satisfaction [15]\n",
    "\n",
    "# 2) CHOOSE THE SIGNIFICANCE LEVEL\n",
    "alpha = 0.05\n",
    "print(\"The significance level is: \", alpha)\n",
    "\n",
    "# 3) SAMPLE\n",
    "corr_area_evolution = pd.crosstab(survey[3], survey[15], dropna=False)\n",
    "corr_area_evolution"
   ]
  },
  {
   "cell_type": "code",
   "execution_count": 49,
   "metadata": {},
   "outputs": [
    {
     "data": {
      "text/plain": [
       "(7.272243589743589,\n",
       " 0.6995177383001153,\n",
       " 10,\n",
       " array([[1.46341463, 2.53658537],\n",
       "        [1.82926829, 3.17073171],\n",
       "        [2.92682927, 5.07317073],\n",
       "        [0.36585366, 0.63414634],\n",
       "        [1.46341463, 2.53658537],\n",
       "        [0.36585366, 0.63414634],\n",
       "        [1.46341463, 2.53658537],\n",
       "        [0.73170732, 1.26829268],\n",
       "        [1.46341463, 2.53658537],\n",
       "        [1.46341463, 2.53658537],\n",
       "        [1.46341463, 2.53658537]]))"
      ]
     },
     "execution_count": 49,
     "metadata": {},
     "output_type": "execute_result"
    }
   ],
   "source": [
    "# 4) and 5) COMPUTE THE STATISTICS and COMPUTE THE p-value:\n",
    "st.chi2_contingency(corr_area_evolution) "
   ]
  },
  {
   "cell_type": "code",
   "execution_count": 50,
   "metadata": {},
   "outputs": [
    {
     "data": {
      "text/plain": [
       "False"
      ]
     },
     "execution_count": 50,
     "metadata": {},
     "output_type": "execute_result"
    }
   ],
   "source": [
    "# 6) DECISION\n",
    "\n",
    "p_value = 0.6995177383001153\n",
    "p_value < alpha\n",
    "\n",
    "# (p_value < alpha --> False) \n",
    "# I do not reject the H0. It seems like with 0.05 of confidence level that\n",
    "        # the differente academic areas does not influence with career evolution satisfaction"
   ]
  },
  {
   "cell_type": "markdown",
   "metadata": {},
   "source": [
    "# 8 Hypothese"
   ]
  },
  {
   "cell_type": "code",
   "execution_count": 51,
   "metadata": {},
   "outputs": [
    {
     "name": "stdout",
     "output_type": "stream",
     "text": [
      "15. Are you satisfied with the evolution of your career? \n",
      "5. Please specify the country:\n"
     ]
    }
   ],
   "source": [
    "print(col_names1[15])\n",
    "print(col_names1[5])"
   ]
  },
  {
   "cell_type": "code",
   "execution_count": 52,
   "metadata": {},
   "outputs": [
    {
     "name": "stderr",
     "output_type": "stream",
     "text": [
      "C:\\Users\\inesa\\AppData\\Local\\Temp\\ipykernel_9124\\3804152810.py:8: SettingWithCopyWarning: \n",
      "A value is trying to be set on a copy of a slice from a DataFrame\n",
      "\n",
      "See the caveats in the documentation: https://pandas.pydata.org/pandas-docs/stable/user_guide/indexing.html#returning-a-view-versus-a-copy\n",
      "  survey[\"5_Others\"][i] = 'Others'\n"
     ]
    }
   ],
   "source": [
    "# Join all countries but Portugal in '5_Others'\n",
    "\n",
    "survey['5_Others']=survey[5]\n",
    "for i in range(len(survey[5])):\n",
    "    if \"Portugal\" in survey[\"5_Others\"][i]:\n",
    "        pass\n",
    "    else:\n",
    "        survey[\"5_Others\"][i] = 'Others'"
   ]
  },
  {
   "cell_type": "code",
   "execution_count": 53,
   "metadata": {},
   "outputs": [
    {
     "name": "stdout",
     "output_type": "stream",
     "text": [
      "The significance level is:  0.05\n"
     ]
    },
    {
     "data": {
      "text/html": [
       "<div>\n",
       "<style scoped>\n",
       "    .dataframe tbody tr th:only-of-type {\n",
       "        vertical-align: middle;\n",
       "    }\n",
       "\n",
       "    .dataframe tbody tr th {\n",
       "        vertical-align: top;\n",
       "    }\n",
       "\n",
       "    .dataframe thead th {\n",
       "        text-align: right;\n",
       "    }\n",
       "</style>\n",
       "<table border=\"1\" class=\"dataframe\">\n",
       "  <thead>\n",
       "    <tr style=\"text-align: right;\">\n",
       "      <th>5_Others</th>\n",
       "      <th>Others</th>\n",
       "      <th>Portugal</th>\n",
       "    </tr>\n",
       "    <tr>\n",
       "      <th>15</th>\n",
       "      <th></th>\n",
       "      <th></th>\n",
       "    </tr>\n",
       "  </thead>\n",
       "  <tbody>\n",
       "    <tr>\n",
       "      <th>No</th>\n",
       "      <td>6</td>\n",
       "      <td>9</td>\n",
       "    </tr>\n",
       "    <tr>\n",
       "      <th>Yes</th>\n",
       "      <td>14</td>\n",
       "      <td>12</td>\n",
       "    </tr>\n",
       "  </tbody>\n",
       "</table>\n",
       "</div>"
      ],
      "text/plain": [
       "5_Others  Others  Portugal\n",
       "15                        \n",
       "No             6         9\n",
       "Yes           14        12"
      ]
     },
     "execution_count": 53,
     "metadata": {},
     "output_type": "execute_result"
    }
   ],
   "source": [
    "# 1) SET THE HYPOTHESIS\n",
    "# H0: career evolution satisfaction [15] INDEPENDENT Countries [5] \n",
    "# H1: career evolution satisfaction [15] DEPENDENT Countries [5]\n",
    "\n",
    "# 2) CHOOSE THE SIGNIFICANCE LEVEL\n",
    "alpha = 0.05\n",
    "print(\"The significance level is: \", alpha)\n",
    "\n",
    "# 3) SAMPLE\n",
    "corr_carerr_country = pd.crosstab(survey[15], survey[\"5_Others\"], dropna=False)\n",
    "corr_carerr_country"
   ]
  },
  {
   "cell_type": "code",
   "execution_count": 54,
   "metadata": {},
   "outputs": [
    {
     "data": {
      "text/plain": [
       "(0.28090506715506713,\n",
       " 0.5961086164332364,\n",
       " 1,\n",
       " array([[ 7.31707317,  7.68292683],\n",
       "        [12.68292683, 13.31707317]]))"
      ]
     },
     "execution_count": 54,
     "metadata": {},
     "output_type": "execute_result"
    }
   ],
   "source": [
    "# 4) and 5) COMPUTE THE STATISTICS and COMPUTE THE p-value:\n",
    "st.chi2_contingency(corr_carerr_country) "
   ]
  },
  {
   "cell_type": "code",
   "execution_count": 55,
   "metadata": {},
   "outputs": [
    {
     "data": {
      "text/plain": [
       "False"
      ]
     },
     "execution_count": 55,
     "metadata": {},
     "output_type": "execute_result"
    }
   ],
   "source": [
    "# 6) DECISION\n",
    "\n",
    "p_value = 0.5961086164332364\n",
    "p_value < alpha\n",
    "\n",
    "# (p_value < alpha --> False) \n",
    "# I do not reject the H0. It seems like with 0.05 of confidence level that\n",
    "        # the career evolution satisfaction isn't related where do people have your studies "
   ]
  },
  {
   "cell_type": "markdown",
   "metadata": {},
   "source": [
    "# 9 Hypothese"
   ]
  },
  {
   "cell_type": "code",
   "execution_count": 56,
   "metadata": {},
   "outputs": [
    {
     "name": "stdout",
     "output_type": "stream",
     "text": [
      "21. Do you feel that you need/had to change career to have more work opportunities? \n",
      "5. Please specify the country:\n"
     ]
    }
   ],
   "source": [
    "print(col_names1[21])\n",
    "print(col_names1[5])"
   ]
  },
  {
   "cell_type": "code",
   "execution_count": 57,
   "metadata": {},
   "outputs": [
    {
     "name": "stdout",
     "output_type": "stream",
     "text": [
      "The significance level is:  0.05\n"
     ]
    },
    {
     "data": {
      "text/html": [
       "<div>\n",
       "<style scoped>\n",
       "    .dataframe tbody tr th:only-of-type {\n",
       "        vertical-align: middle;\n",
       "    }\n",
       "\n",
       "    .dataframe tbody tr th {\n",
       "        vertical-align: top;\n",
       "    }\n",
       "\n",
       "    .dataframe thead th {\n",
       "        text-align: right;\n",
       "    }\n",
       "</style>\n",
       "<table border=\"1\" class=\"dataframe\">\n",
       "  <thead>\n",
       "    <tr style=\"text-align: right;\">\n",
       "      <th>5_Others</th>\n",
       "      <th>Others</th>\n",
       "      <th>Portugal</th>\n",
       "    </tr>\n",
       "    <tr>\n",
       "      <th>21_agg_no</th>\n",
       "      <th></th>\n",
       "      <th></th>\n",
       "    </tr>\n",
       "  </thead>\n",
       "  <tbody>\n",
       "    <tr>\n",
       "      <th>No</th>\n",
       "      <td>9</td>\n",
       "      <td>9</td>\n",
       "    </tr>\n",
       "    <tr>\n",
       "      <th>Yes</th>\n",
       "      <td>11</td>\n",
       "      <td>12</td>\n",
       "    </tr>\n",
       "  </tbody>\n",
       "</table>\n",
       "</div>"
      ],
      "text/plain": [
       "5_Others   Others  Portugal\n",
       "21_agg_no                  \n",
       "No              9         9\n",
       "Yes            11        12"
      ]
     },
     "execution_count": 57,
     "metadata": {},
     "output_type": "execute_result"
    }
   ],
   "source": [
    "# 1) SET THE HYPOTHESIS\n",
    "# H0: Opportunities perception by changing career [21] INDEPENDENT Countries [5]\n",
    "# H1: Opportunities perception by changing career [21] DEPENDENT Countries [5]\n",
    "\n",
    "# 2) CHOOSE THE SIGNIFICANCE LEVEL\n",
    "alpha = 0.05\n",
    "print(\"The significance level is: \", alpha)\n",
    "\n",
    "# 3) SAMPLE\n",
    "corr_oppotunities_country = pd.crosstab(survey[\"21_agg_no\"], survey[\"5_Others\"], dropna=False)\n",
    "corr_oppotunities_country"
   ]
  },
  {
   "cell_type": "code",
   "execution_count": 58,
   "metadata": {},
   "outputs": [
    {
     "data": {
      "text/plain": [
       "(0.0,\n",
       " 1.0,\n",
       " 1,\n",
       " array([[ 8.7804878,  9.2195122],\n",
       "        [11.2195122, 11.7804878]]))"
      ]
     },
     "execution_count": 58,
     "metadata": {},
     "output_type": "execute_result"
    }
   ],
   "source": [
    "# 4) and 5) COMPUTE THE STATISTICS and COMPUTE THE p-value:\n",
    "st.chi2_contingency(corr_oppotunities_country) "
   ]
  },
  {
   "cell_type": "code",
   "execution_count": 59,
   "metadata": {},
   "outputs": [
    {
     "data": {
      "text/plain": [
       "False"
      ]
     },
     "execution_count": 59,
     "metadata": {},
     "output_type": "execute_result"
    }
   ],
   "source": [
    "# 6) DECISION\n",
    "\n",
    "p_value = 1\n",
    "p_value < alpha\n",
    "\n",
    "# (p_value < alpha --> False) \n",
    "# I do not reject the H0. It seems like with 0.05 of confidence level that\n",
    "        # getting more work opportunities perception by changing career is not influenced by the country where the people took their courses"
   ]
  },
  {
   "cell_type": "markdown",
   "metadata": {},
   "source": [
    "# 10 Hyphotese"
   ]
  },
  {
   "cell_type": "code",
   "execution_count": 60,
   "metadata": {},
   "outputs": [
    {
     "name": "stdout",
     "output_type": "stream",
     "text": [
      "15. Are you satisfied with the evolution of your career? \n"
     ]
    }
   ],
   "source": [
    "print(col_names1[15])"
   ]
  },
  {
   "cell_type": "code",
   "execution_count": 61,
   "metadata": {},
   "outputs": [
    {
     "name": "stdout",
     "output_type": "stream",
     "text": [
      "The significance level is:  0.05\n"
     ]
    },
    {
     "data": {
      "text/html": [
       "<div>\n",
       "<style scoped>\n",
       "    .dataframe tbody tr th:only-of-type {\n",
       "        vertical-align: middle;\n",
       "    }\n",
       "\n",
       "    .dataframe tbody tr th {\n",
       "        vertical-align: top;\n",
       "    }\n",
       "\n",
       "    .dataframe thead th {\n",
       "        text-align: right;\n",
       "    }\n",
       "</style>\n",
       "<table border=\"1\" class=\"dataframe\">\n",
       "  <thead>\n",
       "    <tr style=\"text-align: right;\">\n",
       "      <th>15</th>\n",
       "      <th>No</th>\n",
       "      <th>Yes</th>\n",
       "    </tr>\n",
       "    <tr>\n",
       "      <th>experience_aft_gra</th>\n",
       "      <th></th>\n",
       "      <th></th>\n",
       "    </tr>\n",
       "  </thead>\n",
       "  <tbody>\n",
       "    <tr>\n",
       "      <th>0</th>\n",
       "      <td>1</td>\n",
       "      <td>5</td>\n",
       "    </tr>\n",
       "    <tr>\n",
       "      <th>1</th>\n",
       "      <td>3</td>\n",
       "      <td>3</td>\n",
       "    </tr>\n",
       "    <tr>\n",
       "      <th>2</th>\n",
       "      <td>1</td>\n",
       "      <td>3</td>\n",
       "    </tr>\n",
       "    <tr>\n",
       "      <th>3</th>\n",
       "      <td>2</td>\n",
       "      <td>5</td>\n",
       "    </tr>\n",
       "    <tr>\n",
       "      <th>5</th>\n",
       "      <td>1</td>\n",
       "      <td>0</td>\n",
       "    </tr>\n",
       "    <tr>\n",
       "      <th>6</th>\n",
       "      <td>1</td>\n",
       "      <td>2</td>\n",
       "    </tr>\n",
       "    <tr>\n",
       "      <th>8</th>\n",
       "      <td>3</td>\n",
       "      <td>3</td>\n",
       "    </tr>\n",
       "    <tr>\n",
       "      <th>9</th>\n",
       "      <td>1</td>\n",
       "      <td>3</td>\n",
       "    </tr>\n",
       "    <tr>\n",
       "      <th>11</th>\n",
       "      <td>1</td>\n",
       "      <td>0</td>\n",
       "    </tr>\n",
       "    <tr>\n",
       "      <th>13</th>\n",
       "      <td>0</td>\n",
       "      <td>1</td>\n",
       "    </tr>\n",
       "    <tr>\n",
       "      <th>14</th>\n",
       "      <td>0</td>\n",
       "      <td>1</td>\n",
       "    </tr>\n",
       "    <tr>\n",
       "      <th>33</th>\n",
       "      <td>1</td>\n",
       "      <td>0</td>\n",
       "    </tr>\n",
       "  </tbody>\n",
       "</table>\n",
       "</div>"
      ],
      "text/plain": [
       "15                  No  Yes\n",
       "experience_aft_gra         \n",
       "0                    1    5\n",
       "1                    3    3\n",
       "2                    1    3\n",
       "3                    2    5\n",
       "5                    1    0\n",
       "6                    1    2\n",
       "8                    3    3\n",
       "9                    1    3\n",
       "11                   1    0\n",
       "13                   0    1\n",
       "14                   0    1\n",
       "33                   1    0"
      ]
     },
     "execution_count": 61,
     "metadata": {},
     "output_type": "execute_result"
    }
   ],
   "source": [
    "# 1) SET THE HYPOTHESIS\n",
    "# H0: working experience ['experience_aft_gra'] INDEPENDENT career evolution [15] \n",
    "# H1: working experience ['experience_aft_gra'] INDEPENDENT career evolution [15] \n",
    "\n",
    "# 2) CHOOSE THE SIGNIFICANCE LEVEL\n",
    "alpha = 0.05\n",
    "print(\"The significance level is: \", alpha)\n",
    "\n",
    "# 3) SAMPLE\n",
    "corr_work_exp_career = pd.crosstab(survey[\"experience_aft_gra\"], survey[15], dropna=False)\n",
    "corr_work_exp_career"
   ]
  },
  {
   "cell_type": "code",
   "execution_count": 62,
   "metadata": {},
   "outputs": [
    {
     "data": {
      "text/plain": [
       "(8.980952380952381,\n",
       " 0.6236505934412817,\n",
       " 11,\n",
       " array([[2.19512195, 3.80487805],\n",
       "        [2.19512195, 3.80487805],\n",
       "        [1.46341463, 2.53658537],\n",
       "        [2.56097561, 4.43902439],\n",
       "        [0.36585366, 0.63414634],\n",
       "        [1.09756098, 1.90243902],\n",
       "        [2.19512195, 3.80487805],\n",
       "        [1.46341463, 2.53658537],\n",
       "        [0.36585366, 0.63414634],\n",
       "        [0.36585366, 0.63414634],\n",
       "        [0.36585366, 0.63414634],\n",
       "        [0.36585366, 0.63414634]]))"
      ]
     },
     "execution_count": 62,
     "metadata": {},
     "output_type": "execute_result"
    }
   ],
   "source": [
    "# 4) and 5) COMPUTE THE STATISTICS and COMPUTE THE p-value:\n",
    "st.chi2_contingency(corr_work_exp_career) "
   ]
  },
  {
   "cell_type": "code",
   "execution_count": 63,
   "metadata": {},
   "outputs": [
    {
     "data": {
      "text/plain": [
       "False"
      ]
     },
     "execution_count": 63,
     "metadata": {},
     "output_type": "execute_result"
    }
   ],
   "source": [
    "# 6) DECISION\n",
    "\n",
    "p_value = 0.6236505934412817\n",
    "p_value < alpha\n",
    "\n",
    "# (p_value < alpha --> False) \n",
    "# I do not reject the H0. It seems like with 0.05 of confidence level that\n",
    "        # the working experience is independent from the career evolution satisfaction \n"
   ]
  },
  {
   "cell_type": "markdown",
   "metadata": {},
   "source": [
    "# 11 Hypothese"
   ]
  },
  {
   "cell_type": "code",
   "execution_count": 64,
   "metadata": {},
   "outputs": [
    {
     "name": "stdout",
     "output_type": "stream",
     "text": [
      "15. Are you satisfied with the evolution of your career? \n",
      "5. Please specify the country:\n"
     ]
    }
   ],
   "source": [
    "print(col_names1[15])\n",
    "print(col_names1[5])"
   ]
  },
  {
   "cell_type": "code",
   "execution_count": 65,
   "metadata": {},
   "outputs": [],
   "source": [
    "#creating a survey only with the values from Portugal\n",
    "survey_pt = survey[survey[\"5_Others\"] == \"Portugal\"]"
   ]
  },
  {
   "cell_type": "code",
   "execution_count": 66,
   "metadata": {},
   "outputs": [
    {
     "name": "stdout",
     "output_type": "stream",
     "text": [
      "The significance level is:  0.05\n"
     ]
    },
    {
     "data": {
      "text/html": [
       "<div>\n",
       "<style scoped>\n",
       "    .dataframe tbody tr th:only-of-type {\n",
       "        vertical-align: middle;\n",
       "    }\n",
       "\n",
       "    .dataframe tbody tr th {\n",
       "        vertical-align: top;\n",
       "    }\n",
       "\n",
       "    .dataframe thead th {\n",
       "        text-align: right;\n",
       "    }\n",
       "</style>\n",
       "<table border=\"1\" class=\"dataframe\">\n",
       "  <thead>\n",
       "    <tr style=\"text-align: right;\">\n",
       "      <th>15</th>\n",
       "      <th>No</th>\n",
       "      <th>Yes</th>\n",
       "    </tr>\n",
       "    <tr>\n",
       "      <th>experience_aft_gra</th>\n",
       "      <th></th>\n",
       "      <th></th>\n",
       "    </tr>\n",
       "  </thead>\n",
       "  <tbody>\n",
       "    <tr>\n",
       "      <th>0</th>\n",
       "      <td>0</td>\n",
       "      <td>1</td>\n",
       "    </tr>\n",
       "    <tr>\n",
       "      <th>1</th>\n",
       "      <td>1</td>\n",
       "      <td>3</td>\n",
       "    </tr>\n",
       "    <tr>\n",
       "      <th>2</th>\n",
       "      <td>1</td>\n",
       "      <td>0</td>\n",
       "    </tr>\n",
       "    <tr>\n",
       "      <th>3</th>\n",
       "      <td>2</td>\n",
       "      <td>3</td>\n",
       "    </tr>\n",
       "    <tr>\n",
       "      <th>6</th>\n",
       "      <td>1</td>\n",
       "      <td>1</td>\n",
       "    </tr>\n",
       "    <tr>\n",
       "      <th>8</th>\n",
       "      <td>2</td>\n",
       "      <td>1</td>\n",
       "    </tr>\n",
       "    <tr>\n",
       "      <th>9</th>\n",
       "      <td>1</td>\n",
       "      <td>2</td>\n",
       "    </tr>\n",
       "    <tr>\n",
       "      <th>13</th>\n",
       "      <td>0</td>\n",
       "      <td>1</td>\n",
       "    </tr>\n",
       "    <tr>\n",
       "      <th>33</th>\n",
       "      <td>1</td>\n",
       "      <td>0</td>\n",
       "    </tr>\n",
       "  </tbody>\n",
       "</table>\n",
       "</div>"
      ],
      "text/plain": [
       "15                  No  Yes\n",
       "experience_aft_gra         \n",
       "0                    0    1\n",
       "1                    1    3\n",
       "2                    1    0\n",
       "3                    2    3\n",
       "6                    1    1\n",
       "8                    2    1\n",
       "9                    1    2\n",
       "13                   0    1\n",
       "33                   1    0"
      ]
     },
     "execution_count": 66,
     "metadata": {},
     "output_type": "execute_result"
    }
   ],
   "source": [
    "# 1) SET THE HYPOTHESIS\n",
    "# H0: working experience ['experience_aft_gra'] INDEPENDENT career evolution satisfaction [15] in Portugal \n",
    "# H1: working experience ['experience_aft_gra'] INDEPENDENT career evolution satisfaction [15] in Portugal\n",
    "\n",
    "# 2) CHOOSE THE SIGNIFICANCE LEVEL\n",
    "alpha = 0.05\n",
    "print(\"The significance level is: \", alpha)\n",
    "\n",
    "# 3) SAMPLE\n",
    "corr_work_exp_career_pt = pd.crosstab(survey_pt[\"experience_aft_gra\"], survey_pt[15], dropna=False)\n",
    "corr_work_exp_career_pt"
   ]
  },
  {
   "cell_type": "code",
   "execution_count": 67,
   "metadata": {},
   "outputs": [
    {
     "data": {
      "text/plain": [
       "(5.551388888888889,\n",
       " 0.6973401279896991,\n",
       " 8,\n",
       " array([[0.42857143, 0.57142857],\n",
       "        [1.71428571, 2.28571429],\n",
       "        [0.42857143, 0.57142857],\n",
       "        [2.14285714, 2.85714286],\n",
       "        [0.85714286, 1.14285714],\n",
       "        [1.28571429, 1.71428571],\n",
       "        [1.28571429, 1.71428571],\n",
       "        [0.42857143, 0.57142857],\n",
       "        [0.42857143, 0.57142857]]))"
      ]
     },
     "execution_count": 67,
     "metadata": {},
     "output_type": "execute_result"
    }
   ],
   "source": [
    "# 4) and 5) COMPUTE THE STATISTICS and COMPUTE THE p-value:\n",
    "st.chi2_contingency(corr_work_exp_career_pt) "
   ]
  },
  {
   "cell_type": "code",
   "execution_count": 68,
   "metadata": {},
   "outputs": [
    {
     "data": {
      "text/plain": [
       "False"
      ]
     },
     "execution_count": 68,
     "metadata": {},
     "output_type": "execute_result"
    }
   ],
   "source": [
    "# 6) DECISION\n",
    "\n",
    "p_value = 0.6973401279896991\n",
    "p_value < alpha\n",
    "\n",
    "# (p_value < alpha --> False) \n",
    "# I do not reject the H0. It seems like with 0.05 of confidence level that\n",
    "        # the working experience is independent from the career evolution satisfaction in Portugal"
   ]
  },
  {
   "cell_type": "markdown",
   "metadata": {},
   "source": [
    "# 12 Hypothese"
   ]
  },
  {
   "cell_type": "code",
   "execution_count": 69,
   "metadata": {},
   "outputs": [
    {
     "name": "stdout",
     "output_type": "stream",
     "text": [
      "12. The experience of your first job was what you expected?\n",
      "5. Please specify the country:\n"
     ]
    }
   ],
   "source": [
    "print(col_names1[12])\n",
    "print(col_names1[5])"
   ]
  },
  {
   "cell_type": "code",
   "execution_count": 70,
   "metadata": {},
   "outputs": [
    {
     "name": "stdout",
     "output_type": "stream",
     "text": [
      "The significance level is:  0.05\n"
     ]
    },
    {
     "data": {
      "text/html": [
       "<div>\n",
       "<style scoped>\n",
       "    .dataframe tbody tr th:only-of-type {\n",
       "        vertical-align: middle;\n",
       "    }\n",
       "\n",
       "    .dataframe tbody tr th {\n",
       "        vertical-align: top;\n",
       "    }\n",
       "\n",
       "    .dataframe thead th {\n",
       "        text-align: right;\n",
       "    }\n",
       "</style>\n",
       "<table border=\"1\" class=\"dataframe\">\n",
       "  <thead>\n",
       "    <tr style=\"text-align: right;\">\n",
       "      <th>12</th>\n",
       "      <th>No</th>\n",
       "      <th>Yes</th>\n",
       "    </tr>\n",
       "    <tr>\n",
       "      <th>5</th>\n",
       "      <th></th>\n",
       "      <th></th>\n",
       "    </tr>\n",
       "  </thead>\n",
       "  <tbody>\n",
       "    <tr>\n",
       "      <th>Australia</th>\n",
       "      <td>1</td>\n",
       "      <td>0</td>\n",
       "    </tr>\n",
       "    <tr>\n",
       "      <th>Austria</th>\n",
       "      <td>0</td>\n",
       "      <td>1</td>\n",
       "    </tr>\n",
       "    <tr>\n",
       "      <th>Brazil</th>\n",
       "      <td>2</td>\n",
       "      <td>0</td>\n",
       "    </tr>\n",
       "    <tr>\n",
       "      <th>Canada</th>\n",
       "      <td>1</td>\n",
       "      <td>0</td>\n",
       "    </tr>\n",
       "    <tr>\n",
       "      <th>China</th>\n",
       "      <td>0</td>\n",
       "      <td>1</td>\n",
       "    </tr>\n",
       "    <tr>\n",
       "      <th>Colombia</th>\n",
       "      <td>1</td>\n",
       "      <td>0</td>\n",
       "    </tr>\n",
       "    <tr>\n",
       "      <th>Denmark</th>\n",
       "      <td>1</td>\n",
       "      <td>0</td>\n",
       "    </tr>\n",
       "    <tr>\n",
       "      <th>Egypt</th>\n",
       "      <td>0</td>\n",
       "      <td>1</td>\n",
       "    </tr>\n",
       "    <tr>\n",
       "      <th>Ireland</th>\n",
       "      <td>1</td>\n",
       "      <td>0</td>\n",
       "    </tr>\n",
       "    <tr>\n",
       "      <th>New Zealand</th>\n",
       "      <td>0</td>\n",
       "      <td>1</td>\n",
       "    </tr>\n",
       "    <tr>\n",
       "      <th>Portugal</th>\n",
       "      <td>11</td>\n",
       "      <td>10</td>\n",
       "    </tr>\n",
       "    <tr>\n",
       "      <th>South Africa</th>\n",
       "      <td>1</td>\n",
       "      <td>0</td>\n",
       "    </tr>\n",
       "    <tr>\n",
       "      <th>The Netherlands</th>\n",
       "      <td>0</td>\n",
       "      <td>1</td>\n",
       "    </tr>\n",
       "    <tr>\n",
       "      <th>Uk</th>\n",
       "      <td>0</td>\n",
       "      <td>1</td>\n",
       "    </tr>\n",
       "    <tr>\n",
       "      <th>United Kingdom</th>\n",
       "      <td>2</td>\n",
       "      <td>0</td>\n",
       "    </tr>\n",
       "    <tr>\n",
       "      <th>United States</th>\n",
       "      <td>1</td>\n",
       "      <td>1</td>\n",
       "    </tr>\n",
       "    <tr>\n",
       "      <th>Usa</th>\n",
       "      <td>1</td>\n",
       "      <td>1</td>\n",
       "    </tr>\n",
       "  </tbody>\n",
       "</table>\n",
       "</div>"
      ],
      "text/plain": [
       "12               No  Yes\n",
       "5                       \n",
       "Australia         1    0\n",
       "Austria           0    1\n",
       "Brazil            2    0\n",
       "Canada            1    0\n",
       "China             0    1\n",
       "Colombia          1    0\n",
       "Denmark           1    0\n",
       "Egypt             0    1\n",
       "Ireland           1    0\n",
       "New Zealand       0    1\n",
       "Portugal         11   10\n",
       "South Africa      1    0\n",
       "The Netherlands   0    1\n",
       "Uk                0    1\n",
       "United Kingdom    2    0\n",
       "United States     1    1\n",
       "Usa               1    1"
      ]
     },
     "execution_count": 70,
     "metadata": {},
     "output_type": "execute_result"
    }
   ],
   "source": [
    "# 1) SET THE HYPOTHESIS\n",
    "# H0: people satisfied with 1st job [12] INDEPENDENT country [5]\n",
    "# H1: people satisfied with 1st job [12] DEPENDENT country [5]\n",
    "\n",
    "# 2) CHOOSE THE SIGNIFICANCE LEVEL\n",
    "alpha = 0.05\n",
    "print(\"The significance level is: \", alpha)\n",
    "\n",
    "# 3) SAMPLE\n",
    "corr_1st_country = pd.crosstab(survey[5], survey[12], dropna=False)\n",
    "corr_1st_country"
   ]
  },
  {
   "cell_type": "code",
   "execution_count": 71,
   "metadata": {},
   "outputs": [
    {
     "data": {
      "text/plain": [
       "(15.670922475270302,\n",
       " 0.4761543956276749,\n",
       " 16,\n",
       " array([[ 0.56097561,  0.43902439],\n",
       "        [ 0.56097561,  0.43902439],\n",
       "        [ 1.12195122,  0.87804878],\n",
       "        [ 0.56097561,  0.43902439],\n",
       "        [ 0.56097561,  0.43902439],\n",
       "        [ 0.56097561,  0.43902439],\n",
       "        [ 0.56097561,  0.43902439],\n",
       "        [ 0.56097561,  0.43902439],\n",
       "        [ 0.56097561,  0.43902439],\n",
       "        [ 0.56097561,  0.43902439],\n",
       "        [11.7804878 ,  9.2195122 ],\n",
       "        [ 0.56097561,  0.43902439],\n",
       "        [ 0.56097561,  0.43902439],\n",
       "        [ 0.56097561,  0.43902439],\n",
       "        [ 1.12195122,  0.87804878],\n",
       "        [ 1.12195122,  0.87804878],\n",
       "        [ 1.12195122,  0.87804878]]))"
      ]
     },
     "execution_count": 71,
     "metadata": {},
     "output_type": "execute_result"
    }
   ],
   "source": [
    "# 4) and 5) COMPUTE THE STATISTICS and COMPUTE THE p-value:\n",
    "st.chi2_contingency(corr_1st_country) "
   ]
  },
  {
   "cell_type": "code",
   "execution_count": 72,
   "metadata": {},
   "outputs": [
    {
     "data": {
      "text/plain": [
       "False"
      ]
     },
     "execution_count": 72,
     "metadata": {},
     "output_type": "execute_result"
    }
   ],
   "source": [
    "# 6) DECISION\n",
    "\n",
    "p_value = 0.4761543956276749\n",
    "p_value < alpha\n",
    "\n",
    "# (p_value < alpha --> False) \n",
    "# I do not reject the H0. It seems like with 0.05 of confidence level that\n",
    "        # people satisfied with 1st job is independent from the country where they have studied"
   ]
  },
  {
   "cell_type": "code",
   "execution_count": 80,
   "metadata": {},
   "outputs": [
    {
     "data": {
      "text/plain": [
       "['Timestamp',\n",
       " '1.  What is your gender?',\n",
       " '2. How old are you?',\n",
       " '3. What is the area of your studies at University?',\n",
       " '4. Where did you take the course?',\n",
       " '5. Please specify the country:',\n",
       " '6.  Have you completed your studies?',\n",
       " '7. In what year did you complete your degree?',\n",
       " '8. Did you take one second course in University?',\n",
       " '9. If yes, did you complete this second course?',\n",
       " '10. When did you complete this second course ?',\n",
       " '11. Does the search for your first job (after graduation) was easy?',\n",
       " '12. The experience of your first job was what you expected?',\n",
       " '13. Why?',\n",
       " '14. Did you feel the need to look for work abroad?',\n",
       " '15. Are you satisfied with the evolution of your career? ',\n",
       " '16. Select the options below that better fits your positive thoughts about your current or last work experience:',\n",
       " '17. Select the options below that better fits your negative thoughts about your current or last work experience:',\n",
       " '18. Do you feel that your University studies matches with what you aspirated?',\n",
       " '19. Did you take another specialization course/MBA/Phd/Bootcamp?',\n",
       " '20. If yes, what was the course/MBA/Phd/Bootcamp? And Why?',\n",
       " '21. Do you feel that you need/had to change career to have more work opportunities? ']"
      ]
     },
     "execution_count": 80,
     "metadata": {},
     "output_type": "execute_result"
    }
   ],
   "source": [
    "col_names1"
   ]
  },
  {
   "cell_type": "code",
   "execution_count": 81,
   "metadata": {},
   "outputs": [],
   "source": [
    "survey.rename(columns={1:'1.  What is your gender?',\n",
    " 2:'2. How old are you?',\n",
    " 3:'3. What is the area of your studies at University?',\n",
    " 4:'4. Where did you take the course?',\n",
    " 5:'5. Please specify the country:',\n",
    " 6:'6.  Have you completed your studies?',\n",
    " 7:'7. In what year did you complete your degree?',\n",
    " 8:'8. Did you take one second course in University?',\n",
    " 9:'9. If yes, did you complete this second course?',\n",
    " 10:'10. When did you complete this second course ?',\n",
    " 11:'11. Does the search for your first job (after graduation) was easy?',\n",
    " 12:'12. The experience of your first job was what you expected?',\n",
    " 13:'13. Why?',\n",
    " 14:'14. Did you feel the need to look for work abroad?',\n",
    " 15:'15. Are you satisfied with the evolution of your career? ',\n",
    " 16:'16. Select the options below that better fits your positive thoughts about your current or last work experience:',\n",
    " 17:'17. Select the options below that better fits your negative thoughts about your current or last work experience:',\n",
    " 18:'18. Do you feel that your University studies matches with what you aspirated?',\n",
    " 19:'19. Did you take another specialization course/MBA/Phd/Bootcamp?',\n",
    " 20:'20. If yes, what was the course/MBA/Phd/Bootcamp? And Why?',\n",
    " 21:'21. Do you feel that you need/had to change career to have more work opportunities? '}, inplace=True)"
   ]
  },
  {
   "cell_type": "code",
   "execution_count": 88,
   "metadata": {},
   "outputs": [],
   "source": [
    "survey.to_excel(\"Survey_Cor_Questions.xlsx\", index=False)"
   ]
  },
  {
   "cell_type": "code",
   "execution_count": null,
   "metadata": {},
   "outputs": [],
   "source": []
  }
 ],
 "metadata": {
  "kernelspec": {
   "display_name": "Python 3.9.13 ('ironhack')",
   "language": "python",
   "name": "python3"
  },
  "language_info": {
   "codemirror_mode": {
    "name": "ipython",
    "version": 3
   },
   "file_extension": ".py",
   "mimetype": "text/x-python",
   "name": "python",
   "nbconvert_exporter": "python",
   "pygments_lexer": "ipython3",
   "version": "3.9.15"
  },
  "orig_nbformat": 4,
  "vscode": {
   "interpreter": {
    "hash": "b52c70b0c498f74ff157f351076d810f77b2bb2ce7a98fe9a6e097a72ab01d5a"
   }
  }
 },
 "nbformat": 4,
 "nbformat_minor": 2
}
